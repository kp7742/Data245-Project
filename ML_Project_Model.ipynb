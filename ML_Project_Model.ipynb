{
  "nbformat": 4,
  "nbformat_minor": 0,
  "metadata": {
    "colab": {
      "provenance": []
    },
    "kernelspec": {
      "name": "python3",
      "display_name": "Python 3"
    },
    "language_info": {
      "name": "python"
    }
  },
  "cells": [
    {
      "cell_type": "markdown",
      "source": [
        "# **Restaurant Risk Prediction**"
      ],
      "metadata": {
        "id": "hGTgN619rWly"
      }
    },
    {
      "cell_type": "markdown",
      "source": [
        "# Import"
      ],
      "metadata": {
        "id": "6aONEcSJk8LC"
      }
    },
    {
      "cell_type": "code",
      "source": [
        "import numpy as np\n",
        "import pandas as pd\n",
        "import seaborn as sns\n",
        "import matplotlib.pyplot as plt"
      ],
      "metadata": {
        "id": "SlAsiaghpRnQ"
      },
      "execution_count": 349,
      "outputs": []
    },
    {
      "cell_type": "markdown",
      "source": [
        "# Load"
      ],
      "metadata": {
        "id": "aOtzXUDnk9a9"
      }
    },
    {
      "cell_type": "code",
      "source": [
        "df = pd.read_csv('restaurant_cleaned.csv')"
      ],
      "metadata": {
        "id": "UXoNb-ZKplUp"
      },
      "execution_count": 350,
      "outputs": []
    },
    {
      "cell_type": "code",
      "source": [
        "df.head()"
      ],
      "metadata": {
        "colab": {
          "base_uri": "https://localhost:8080/",
          "height": 270
        },
        "id": "CyckpoAPprI8",
        "outputId": "9990ca0f-113d-417b-8ec9-82ae0f041ed3"
      },
      "execution_count": 351,
      "outputs": [
        {
          "output_type": "execute_result",
          "data": {
            "text/plain": [
              "   business_id  business_postal_code  business_latitude  business_longitude  \\\n",
              "0         3649                 94103          37.765708         -122.409002   \n",
              "1         2929                 94109          37.790523         -122.413158   \n",
              "2         3025                 94122          37.754086         -122.478350   \n",
              "3         2334                 94110          37.755693         -122.406650   \n",
              "4        37350                 94103          37.785386         -122.403723   \n",
              "\n",
              "   inspection_score  violation_id  violation_type  risk_category  \\\n",
              "0                82        103131               1              2   \n",
              "1                98        103142               1              1   \n",
              "2                88        103149               1              1   \n",
              "3                88        103116               2              2   \n",
              "4                94        103149               1              1   \n",
              "\n",
              "   neighborhoods  inspection_year  inspection_month  inspection_day  \n",
              "0             53             2017                12               6  \n",
              "1             50             2018                 6               4  \n",
              "2             39             2018                 3              14  \n",
              "3             53             2017                11              28  \n",
              "4             32             2019                 4              12  "
            ],
            "text/html": [
              "\n",
              "  <div id=\"df-5c19ace7-c252-4172-a214-bead55cd0770\">\n",
              "    <div class=\"colab-df-container\">\n",
              "      <div>\n",
              "<style scoped>\n",
              "    .dataframe tbody tr th:only-of-type {\n",
              "        vertical-align: middle;\n",
              "    }\n",
              "\n",
              "    .dataframe tbody tr th {\n",
              "        vertical-align: top;\n",
              "    }\n",
              "\n",
              "    .dataframe thead th {\n",
              "        text-align: right;\n",
              "    }\n",
              "</style>\n",
              "<table border=\"1\" class=\"dataframe\">\n",
              "  <thead>\n",
              "    <tr style=\"text-align: right;\">\n",
              "      <th></th>\n",
              "      <th>business_id</th>\n",
              "      <th>business_postal_code</th>\n",
              "      <th>business_latitude</th>\n",
              "      <th>business_longitude</th>\n",
              "      <th>inspection_score</th>\n",
              "      <th>violation_id</th>\n",
              "      <th>violation_type</th>\n",
              "      <th>risk_category</th>\n",
              "      <th>neighborhoods</th>\n",
              "      <th>inspection_year</th>\n",
              "      <th>inspection_month</th>\n",
              "      <th>inspection_day</th>\n",
              "    </tr>\n",
              "  </thead>\n",
              "  <tbody>\n",
              "    <tr>\n",
              "      <th>0</th>\n",
              "      <td>3649</td>\n",
              "      <td>94103</td>\n",
              "      <td>37.765708</td>\n",
              "      <td>-122.409002</td>\n",
              "      <td>82</td>\n",
              "      <td>103131</td>\n",
              "      <td>1</td>\n",
              "      <td>2</td>\n",
              "      <td>53</td>\n",
              "      <td>2017</td>\n",
              "      <td>12</td>\n",
              "      <td>6</td>\n",
              "    </tr>\n",
              "    <tr>\n",
              "      <th>1</th>\n",
              "      <td>2929</td>\n",
              "      <td>94109</td>\n",
              "      <td>37.790523</td>\n",
              "      <td>-122.413158</td>\n",
              "      <td>98</td>\n",
              "      <td>103142</td>\n",
              "      <td>1</td>\n",
              "      <td>1</td>\n",
              "      <td>50</td>\n",
              "      <td>2018</td>\n",
              "      <td>6</td>\n",
              "      <td>4</td>\n",
              "    </tr>\n",
              "    <tr>\n",
              "      <th>2</th>\n",
              "      <td>3025</td>\n",
              "      <td>94122</td>\n",
              "      <td>37.754086</td>\n",
              "      <td>-122.478350</td>\n",
              "      <td>88</td>\n",
              "      <td>103149</td>\n",
              "      <td>1</td>\n",
              "      <td>1</td>\n",
              "      <td>39</td>\n",
              "      <td>2018</td>\n",
              "      <td>3</td>\n",
              "      <td>14</td>\n",
              "    </tr>\n",
              "    <tr>\n",
              "      <th>3</th>\n",
              "      <td>2334</td>\n",
              "      <td>94110</td>\n",
              "      <td>37.755693</td>\n",
              "      <td>-122.406650</td>\n",
              "      <td>88</td>\n",
              "      <td>103116</td>\n",
              "      <td>2</td>\n",
              "      <td>2</td>\n",
              "      <td>53</td>\n",
              "      <td>2017</td>\n",
              "      <td>11</td>\n",
              "      <td>28</td>\n",
              "    </tr>\n",
              "    <tr>\n",
              "      <th>4</th>\n",
              "      <td>37350</td>\n",
              "      <td>94103</td>\n",
              "      <td>37.785386</td>\n",
              "      <td>-122.403723</td>\n",
              "      <td>94</td>\n",
              "      <td>103149</td>\n",
              "      <td>1</td>\n",
              "      <td>1</td>\n",
              "      <td>32</td>\n",
              "      <td>2019</td>\n",
              "      <td>4</td>\n",
              "      <td>12</td>\n",
              "    </tr>\n",
              "  </tbody>\n",
              "</table>\n",
              "</div>\n",
              "      <button class=\"colab-df-convert\" onclick=\"convertToInteractive('df-5c19ace7-c252-4172-a214-bead55cd0770')\"\n",
              "              title=\"Convert this dataframe to an interactive table.\"\n",
              "              style=\"display:none;\">\n",
              "        \n",
              "  <svg xmlns=\"http://www.w3.org/2000/svg\" height=\"24px\"viewBox=\"0 0 24 24\"\n",
              "       width=\"24px\">\n",
              "    <path d=\"M0 0h24v24H0V0z\" fill=\"none\"/>\n",
              "    <path d=\"M18.56 5.44l.94 2.06.94-2.06 2.06-.94-2.06-.94-.94-2.06-.94 2.06-2.06.94zm-11 1L8.5 8.5l.94-2.06 2.06-.94-2.06-.94L8.5 2.5l-.94 2.06-2.06.94zm10 10l.94 2.06.94-2.06 2.06-.94-2.06-.94-.94-2.06-.94 2.06-2.06.94z\"/><path d=\"M17.41 7.96l-1.37-1.37c-.4-.4-.92-.59-1.43-.59-.52 0-1.04.2-1.43.59L10.3 9.45l-7.72 7.72c-.78.78-.78 2.05 0 2.83L4 21.41c.39.39.9.59 1.41.59.51 0 1.02-.2 1.41-.59l7.78-7.78 2.81-2.81c.8-.78.8-2.07 0-2.86zM5.41 20L4 18.59l7.72-7.72 1.47 1.35L5.41 20z\"/>\n",
              "  </svg>\n",
              "      </button>\n",
              "      \n",
              "  <style>\n",
              "    .colab-df-container {\n",
              "      display:flex;\n",
              "      flex-wrap:wrap;\n",
              "      gap: 12px;\n",
              "    }\n",
              "\n",
              "    .colab-df-convert {\n",
              "      background-color: #E8F0FE;\n",
              "      border: none;\n",
              "      border-radius: 50%;\n",
              "      cursor: pointer;\n",
              "      display: none;\n",
              "      fill: #1967D2;\n",
              "      height: 32px;\n",
              "      padding: 0 0 0 0;\n",
              "      width: 32px;\n",
              "    }\n",
              "\n",
              "    .colab-df-convert:hover {\n",
              "      background-color: #E2EBFA;\n",
              "      box-shadow: 0px 1px 2px rgba(60, 64, 67, 0.3), 0px 1px 3px 1px rgba(60, 64, 67, 0.15);\n",
              "      fill: #174EA6;\n",
              "    }\n",
              "\n",
              "    [theme=dark] .colab-df-convert {\n",
              "      background-color: #3B4455;\n",
              "      fill: #D2E3FC;\n",
              "    }\n",
              "\n",
              "    [theme=dark] .colab-df-convert:hover {\n",
              "      background-color: #434B5C;\n",
              "      box-shadow: 0px 1px 3px 1px rgba(0, 0, 0, 0.15);\n",
              "      filter: drop-shadow(0px 1px 2px rgba(0, 0, 0, 0.3));\n",
              "      fill: #FFFFFF;\n",
              "    }\n",
              "  </style>\n",
              "\n",
              "      <script>\n",
              "        const buttonEl =\n",
              "          document.querySelector('#df-5c19ace7-c252-4172-a214-bead55cd0770 button.colab-df-convert');\n",
              "        buttonEl.style.display =\n",
              "          google.colab.kernel.accessAllowed ? 'block' : 'none';\n",
              "\n",
              "        async function convertToInteractive(key) {\n",
              "          const element = document.querySelector('#df-5c19ace7-c252-4172-a214-bead55cd0770');\n",
              "          const dataTable =\n",
              "            await google.colab.kernel.invokeFunction('convertToInteractive',\n",
              "                                                     [key], {});\n",
              "          if (!dataTable) return;\n",
              "\n",
              "          const docLinkHtml = 'Like what you see? Visit the ' +\n",
              "            '<a target=\"_blank\" href=https://colab.research.google.com/notebooks/data_table.ipynb>data table notebook</a>'\n",
              "            + ' to learn more about interactive tables.';\n",
              "          element.innerHTML = '';\n",
              "          dataTable['output_type'] = 'display_data';\n",
              "          await google.colab.output.renderOutput(dataTable, element);\n",
              "          const docLink = document.createElement('div');\n",
              "          docLink.innerHTML = docLinkHtml;\n",
              "          element.appendChild(docLink);\n",
              "        }\n",
              "      </script>\n",
              "    </div>\n",
              "  </div>\n",
              "  "
            ]
          },
          "metadata": {},
          "execution_count": 351
        }
      ]
    },
    {
      "cell_type": "code",
      "source": [
        "df.info()"
      ],
      "metadata": {
        "colab": {
          "base_uri": "https://localhost:8080/"
        },
        "id": "XaUN6hLK81Fe",
        "outputId": "8d68b071-4639-4374-ae49-a21ff5a619bb"
      },
      "execution_count": 352,
      "outputs": [
        {
          "output_type": "stream",
          "name": "stdout",
          "text": [
            "<class 'pandas.core.frame.DataFrame'>\n",
            "RangeIndex: 20299 entries, 0 to 20298\n",
            "Data columns (total 12 columns):\n",
            " #   Column                Non-Null Count  Dtype  \n",
            "---  ------                --------------  -----  \n",
            " 0   business_id           20299 non-null  int64  \n",
            " 1   business_postal_code  20299 non-null  int64  \n",
            " 2   business_latitude     20299 non-null  float64\n",
            " 3   business_longitude    20299 non-null  float64\n",
            " 4   inspection_score      20299 non-null  int64  \n",
            " 5   violation_id          20299 non-null  int64  \n",
            " 6   violation_type        20299 non-null  int64  \n",
            " 7   risk_category         20299 non-null  int64  \n",
            " 8   neighborhoods         20299 non-null  int64  \n",
            " 9   inspection_year       20299 non-null  int64  \n",
            " 10  inspection_month      20299 non-null  int64  \n",
            " 11  inspection_day        20299 non-null  int64  \n",
            "dtypes: float64(2), int64(10)\n",
            "memory usage: 1.9 MB\n"
          ]
        }
      ]
    },
    {
      "cell_type": "markdown",
      "source": [
        "# Scaling Data"
      ],
      "metadata": {
        "id": "LR0fv2zVAzWo"
      }
    },
    {
      "cell_type": "code",
      "source": [
        "X = df.drop('risk_category', axis=1)\n",
        "y = df['risk_category']"
      ],
      "metadata": {
        "id": "61o3wVqi_wo2"
      },
      "execution_count": 353,
      "outputs": []
    },
    {
      "cell_type": "code",
      "source": [
        "target_names = ['Low Risk', 'Medium Risk', 'High Risk']"
      ],
      "metadata": {
        "id": "CUMMO1frJT6N"
      },
      "execution_count": 354,
      "outputs": []
    },
    {
      "cell_type": "markdown",
      "source": [
        "Apply Standard Scaler"
      ],
      "metadata": {
        "id": "bWxFyZlFBG4o"
      }
    },
    {
      "cell_type": "code",
      "source": [
        "from sklearn.preprocessing import StandardScaler\n",
        "\n",
        "scaler = StandardScaler()\n",
        "df[['business_latitude', 'business_longitude', 'inspection_score', 'neighborhoods']] = scaler.fit_transform(df[['business_latitude', 'business_longitude', 'inspection_score', 'neighborhoods']])"
      ],
      "metadata": {
        "id": "pM3WhyOnA_EH"
      },
      "execution_count": 355,
      "outputs": []
    },
    {
      "cell_type": "code",
      "source": [
        "df"
      ],
      "metadata": {
        "colab": {
          "base_uri": "https://localhost:8080/",
          "height": 488
        },
        "id": "MktWSsrqCYUY",
        "outputId": "2fe1f6f7-04f3-4eac-8ee7-e7ff0599d040"
      },
      "execution_count": 356,
      "outputs": [
        {
          "output_type": "execute_result",
          "data": {
            "text/plain": [
              "       business_id  business_postal_code  business_latitude  \\\n",
              "0             3649                 94103          -0.262262   \n",
              "1             2929                 94109           0.797334   \n",
              "2             3025                 94122          -0.758520   \n",
              "3             2334                 94110          -0.689901   \n",
              "4            37350                 94103           0.577985   \n",
              "...            ...                   ...                ...   \n",
              "20294        68998                 94118           0.467564   \n",
              "20295        66584                 94112          -2.340293   \n",
              "20296        67182                 94103          -0.184676   \n",
              "20297        70090                 94103          -0.073614   \n",
              "20298        66517                 94102           0.397877   \n",
              "\n",
              "       business_longitude  inspection_score  violation_id  violation_type  \\\n",
              "0                0.644297         -0.412927        103131               1   \n",
              "1                0.494548          1.560180        103142               1   \n",
              "2               -1.854439          0.326988        103149               1   \n",
              "3                0.729044          0.326988        103116               2   \n",
              "4                0.834509          1.066904        103149               1   \n",
              "...                   ...               ...           ...             ...   \n",
              "20294           -1.311223          1.066904        103145               2   \n",
              "20295           -0.491499          0.573627        103120               2   \n",
              "20296            0.581781          1.313542        103143               3   \n",
              "20297            0.415855          0.943584        103105               2   \n",
              "20298            0.266251         -0.166289        103119               3   \n",
              "\n",
              "       risk_category  neighborhoods  inspection_year  inspection_month  \\\n",
              "0                  2      -0.121124             2017                12   \n",
              "1                  1      -0.206830             2018                 6   \n",
              "2                  1      -0.521087             2018                 3   \n",
              "3                  2      -0.121124             2017                11   \n",
              "4                  1      -0.721068             2019                 4   \n",
              "...              ...            ...              ...               ...   \n",
              "20294              1      -1.492426             2018                10   \n",
              "20295              2       0.935922             2018                 4   \n",
              "20296              1      -0.121124             2017                 7   \n",
              "20297              3      -0.721068             2017                 1   \n",
              "20298              2      -1.035325             2019                 5   \n",
              "\n",
              "       inspection_day  \n",
              "0                   6  \n",
              "1                   4  \n",
              "2                  14  \n",
              "3                  28  \n",
              "4                  12  \n",
              "...               ...  \n",
              "20294              26  \n",
              "20295              30  \n",
              "20296              31  \n",
              "20297               5  \n",
              "20298              24  \n",
              "\n",
              "[20299 rows x 12 columns]"
            ],
            "text/html": [
              "\n",
              "  <div id=\"df-b7dad21e-4840-431f-9dcc-7e3c2ccd1962\">\n",
              "    <div class=\"colab-df-container\">\n",
              "      <div>\n",
              "<style scoped>\n",
              "    .dataframe tbody tr th:only-of-type {\n",
              "        vertical-align: middle;\n",
              "    }\n",
              "\n",
              "    .dataframe tbody tr th {\n",
              "        vertical-align: top;\n",
              "    }\n",
              "\n",
              "    .dataframe thead th {\n",
              "        text-align: right;\n",
              "    }\n",
              "</style>\n",
              "<table border=\"1\" class=\"dataframe\">\n",
              "  <thead>\n",
              "    <tr style=\"text-align: right;\">\n",
              "      <th></th>\n",
              "      <th>business_id</th>\n",
              "      <th>business_postal_code</th>\n",
              "      <th>business_latitude</th>\n",
              "      <th>business_longitude</th>\n",
              "      <th>inspection_score</th>\n",
              "      <th>violation_id</th>\n",
              "      <th>violation_type</th>\n",
              "      <th>risk_category</th>\n",
              "      <th>neighborhoods</th>\n",
              "      <th>inspection_year</th>\n",
              "      <th>inspection_month</th>\n",
              "      <th>inspection_day</th>\n",
              "    </tr>\n",
              "  </thead>\n",
              "  <tbody>\n",
              "    <tr>\n",
              "      <th>0</th>\n",
              "      <td>3649</td>\n",
              "      <td>94103</td>\n",
              "      <td>-0.262262</td>\n",
              "      <td>0.644297</td>\n",
              "      <td>-0.412927</td>\n",
              "      <td>103131</td>\n",
              "      <td>1</td>\n",
              "      <td>2</td>\n",
              "      <td>-0.121124</td>\n",
              "      <td>2017</td>\n",
              "      <td>12</td>\n",
              "      <td>6</td>\n",
              "    </tr>\n",
              "    <tr>\n",
              "      <th>1</th>\n",
              "      <td>2929</td>\n",
              "      <td>94109</td>\n",
              "      <td>0.797334</td>\n",
              "      <td>0.494548</td>\n",
              "      <td>1.560180</td>\n",
              "      <td>103142</td>\n",
              "      <td>1</td>\n",
              "      <td>1</td>\n",
              "      <td>-0.206830</td>\n",
              "      <td>2018</td>\n",
              "      <td>6</td>\n",
              "      <td>4</td>\n",
              "    </tr>\n",
              "    <tr>\n",
              "      <th>2</th>\n",
              "      <td>3025</td>\n",
              "      <td>94122</td>\n",
              "      <td>-0.758520</td>\n",
              "      <td>-1.854439</td>\n",
              "      <td>0.326988</td>\n",
              "      <td>103149</td>\n",
              "      <td>1</td>\n",
              "      <td>1</td>\n",
              "      <td>-0.521087</td>\n",
              "      <td>2018</td>\n",
              "      <td>3</td>\n",
              "      <td>14</td>\n",
              "    </tr>\n",
              "    <tr>\n",
              "      <th>3</th>\n",
              "      <td>2334</td>\n",
              "      <td>94110</td>\n",
              "      <td>-0.689901</td>\n",
              "      <td>0.729044</td>\n",
              "      <td>0.326988</td>\n",
              "      <td>103116</td>\n",
              "      <td>2</td>\n",
              "      <td>2</td>\n",
              "      <td>-0.121124</td>\n",
              "      <td>2017</td>\n",
              "      <td>11</td>\n",
              "      <td>28</td>\n",
              "    </tr>\n",
              "    <tr>\n",
              "      <th>4</th>\n",
              "      <td>37350</td>\n",
              "      <td>94103</td>\n",
              "      <td>0.577985</td>\n",
              "      <td>0.834509</td>\n",
              "      <td>1.066904</td>\n",
              "      <td>103149</td>\n",
              "      <td>1</td>\n",
              "      <td>1</td>\n",
              "      <td>-0.721068</td>\n",
              "      <td>2019</td>\n",
              "      <td>4</td>\n",
              "      <td>12</td>\n",
              "    </tr>\n",
              "    <tr>\n",
              "      <th>...</th>\n",
              "      <td>...</td>\n",
              "      <td>...</td>\n",
              "      <td>...</td>\n",
              "      <td>...</td>\n",
              "      <td>...</td>\n",
              "      <td>...</td>\n",
              "      <td>...</td>\n",
              "      <td>...</td>\n",
              "      <td>...</td>\n",
              "      <td>...</td>\n",
              "      <td>...</td>\n",
              "      <td>...</td>\n",
              "    </tr>\n",
              "    <tr>\n",
              "      <th>20294</th>\n",
              "      <td>68998</td>\n",
              "      <td>94118</td>\n",
              "      <td>0.467564</td>\n",
              "      <td>-1.311223</td>\n",
              "      <td>1.066904</td>\n",
              "      <td>103145</td>\n",
              "      <td>2</td>\n",
              "      <td>1</td>\n",
              "      <td>-1.492426</td>\n",
              "      <td>2018</td>\n",
              "      <td>10</td>\n",
              "      <td>26</td>\n",
              "    </tr>\n",
              "    <tr>\n",
              "      <th>20295</th>\n",
              "      <td>66584</td>\n",
              "      <td>94112</td>\n",
              "      <td>-2.340293</td>\n",
              "      <td>-0.491499</td>\n",
              "      <td>0.573627</td>\n",
              "      <td>103120</td>\n",
              "      <td>2</td>\n",
              "      <td>2</td>\n",
              "      <td>0.935922</td>\n",
              "      <td>2018</td>\n",
              "      <td>4</td>\n",
              "      <td>30</td>\n",
              "    </tr>\n",
              "    <tr>\n",
              "      <th>20296</th>\n",
              "      <td>67182</td>\n",
              "      <td>94103</td>\n",
              "      <td>-0.184676</td>\n",
              "      <td>0.581781</td>\n",
              "      <td>1.313542</td>\n",
              "      <td>103143</td>\n",
              "      <td>3</td>\n",
              "      <td>1</td>\n",
              "      <td>-0.121124</td>\n",
              "      <td>2017</td>\n",
              "      <td>7</td>\n",
              "      <td>31</td>\n",
              "    </tr>\n",
              "    <tr>\n",
              "      <th>20297</th>\n",
              "      <td>70090</td>\n",
              "      <td>94103</td>\n",
              "      <td>-0.073614</td>\n",
              "      <td>0.415855</td>\n",
              "      <td>0.943584</td>\n",
              "      <td>103105</td>\n",
              "      <td>2</td>\n",
              "      <td>3</td>\n",
              "      <td>-0.721068</td>\n",
              "      <td>2017</td>\n",
              "      <td>1</td>\n",
              "      <td>5</td>\n",
              "    </tr>\n",
              "    <tr>\n",
              "      <th>20298</th>\n",
              "      <td>66517</td>\n",
              "      <td>94102</td>\n",
              "      <td>0.397877</td>\n",
              "      <td>0.266251</td>\n",
              "      <td>-0.166289</td>\n",
              "      <td>103119</td>\n",
              "      <td>3</td>\n",
              "      <td>2</td>\n",
              "      <td>-1.035325</td>\n",
              "      <td>2019</td>\n",
              "      <td>5</td>\n",
              "      <td>24</td>\n",
              "    </tr>\n",
              "  </tbody>\n",
              "</table>\n",
              "<p>20299 rows × 12 columns</p>\n",
              "</div>\n",
              "      <button class=\"colab-df-convert\" onclick=\"convertToInteractive('df-b7dad21e-4840-431f-9dcc-7e3c2ccd1962')\"\n",
              "              title=\"Convert this dataframe to an interactive table.\"\n",
              "              style=\"display:none;\">\n",
              "        \n",
              "  <svg xmlns=\"http://www.w3.org/2000/svg\" height=\"24px\"viewBox=\"0 0 24 24\"\n",
              "       width=\"24px\">\n",
              "    <path d=\"M0 0h24v24H0V0z\" fill=\"none\"/>\n",
              "    <path d=\"M18.56 5.44l.94 2.06.94-2.06 2.06-.94-2.06-.94-.94-2.06-.94 2.06-2.06.94zm-11 1L8.5 8.5l.94-2.06 2.06-.94-2.06-.94L8.5 2.5l-.94 2.06-2.06.94zm10 10l.94 2.06.94-2.06 2.06-.94-2.06-.94-.94-2.06-.94 2.06-2.06.94z\"/><path d=\"M17.41 7.96l-1.37-1.37c-.4-.4-.92-.59-1.43-.59-.52 0-1.04.2-1.43.59L10.3 9.45l-7.72 7.72c-.78.78-.78 2.05 0 2.83L4 21.41c.39.39.9.59 1.41.59.51 0 1.02-.2 1.41-.59l7.78-7.78 2.81-2.81c.8-.78.8-2.07 0-2.86zM5.41 20L4 18.59l7.72-7.72 1.47 1.35L5.41 20z\"/>\n",
              "  </svg>\n",
              "      </button>\n",
              "      \n",
              "  <style>\n",
              "    .colab-df-container {\n",
              "      display:flex;\n",
              "      flex-wrap:wrap;\n",
              "      gap: 12px;\n",
              "    }\n",
              "\n",
              "    .colab-df-convert {\n",
              "      background-color: #E8F0FE;\n",
              "      border: none;\n",
              "      border-radius: 50%;\n",
              "      cursor: pointer;\n",
              "      display: none;\n",
              "      fill: #1967D2;\n",
              "      height: 32px;\n",
              "      padding: 0 0 0 0;\n",
              "      width: 32px;\n",
              "    }\n",
              "\n",
              "    .colab-df-convert:hover {\n",
              "      background-color: #E2EBFA;\n",
              "      box-shadow: 0px 1px 2px rgba(60, 64, 67, 0.3), 0px 1px 3px 1px rgba(60, 64, 67, 0.15);\n",
              "      fill: #174EA6;\n",
              "    }\n",
              "\n",
              "    [theme=dark] .colab-df-convert {\n",
              "      background-color: #3B4455;\n",
              "      fill: #D2E3FC;\n",
              "    }\n",
              "\n",
              "    [theme=dark] .colab-df-convert:hover {\n",
              "      background-color: #434B5C;\n",
              "      box-shadow: 0px 1px 3px 1px rgba(0, 0, 0, 0.15);\n",
              "      filter: drop-shadow(0px 1px 2px rgba(0, 0, 0, 0.3));\n",
              "      fill: #FFFFFF;\n",
              "    }\n",
              "  </style>\n",
              "\n",
              "      <script>\n",
              "        const buttonEl =\n",
              "          document.querySelector('#df-b7dad21e-4840-431f-9dcc-7e3c2ccd1962 button.colab-df-convert');\n",
              "        buttonEl.style.display =\n",
              "          google.colab.kernel.accessAllowed ? 'block' : 'none';\n",
              "\n",
              "        async function convertToInteractive(key) {\n",
              "          const element = document.querySelector('#df-b7dad21e-4840-431f-9dcc-7e3c2ccd1962');\n",
              "          const dataTable =\n",
              "            await google.colab.kernel.invokeFunction('convertToInteractive',\n",
              "                                                     [key], {});\n",
              "          if (!dataTable) return;\n",
              "\n",
              "          const docLinkHtml = 'Like what you see? Visit the ' +\n",
              "            '<a target=\"_blank\" href=https://colab.research.google.com/notebooks/data_table.ipynb>data table notebook</a>'\n",
              "            + ' to learn more about interactive tables.';\n",
              "          element.innerHTML = '';\n",
              "          dataTable['output_type'] = 'display_data';\n",
              "          await google.colab.output.renderOutput(dataTable, element);\n",
              "          const docLink = document.createElement('div');\n",
              "          docLink.innerHTML = docLinkHtml;\n",
              "          element.appendChild(docLink);\n",
              "        }\n",
              "      </script>\n",
              "    </div>\n",
              "  </div>\n",
              "  "
            ]
          },
          "metadata": {},
          "execution_count": 356
        }
      ]
    },
    {
      "cell_type": "markdown",
      "source": [
        "# Training Testing Split"
      ],
      "metadata": {
        "id": "3D0Idbr69J-L"
      }
    },
    {
      "cell_type": "code",
      "source": [
        "from sklearn.model_selection import train_test_split\n",
        "\n",
        "X_train, X_test, y_train, y_test = train_test_split(X, y, test_size = 0.20, random_state=10)"
      ],
      "metadata": {
        "id": "UQWmBjc_9NpE"
      },
      "execution_count": 357,
      "outputs": []
    },
    {
      "cell_type": "code",
      "source": [
        "X_train.shape, X_test.shape, y_train.shape, y_test.shape"
      ],
      "metadata": {
        "colab": {
          "base_uri": "https://localhost:8080/"
        },
        "id": "ljw58J5s9p-n",
        "outputId": "1b4c5666-ae9a-4d8b-c881-4ccbb37b8985"
      },
      "execution_count": 358,
      "outputs": [
        {
          "output_type": "execute_result",
          "data": {
            "text/plain": [
              "((16239, 11), (4060, 11), (16239,), (4060,))"
            ]
          },
          "metadata": {},
          "execution_count": 358
        }
      ]
    },
    {
      "cell_type": "code",
      "source": [
        "X_train"
      ],
      "metadata": {
        "colab": {
          "base_uri": "https://localhost:8080/",
          "height": 488
        },
        "id": "AmuLtPHt9x_o",
        "outputId": "20c7e9f2-0212-4f17-d60e-e5043658e295"
      },
      "execution_count": 359,
      "outputs": [
        {
          "output_type": "execute_result",
          "data": {
            "text/plain": [
              "       business_id  business_postal_code  business_latitude  \\\n",
              "18492        65382                 94122          37.763983   \n",
              "6592          4700                 94115          37.785093   \n",
              "4564          3151                 94133          37.796808   \n",
              "4094         36020                 94109          37.783464   \n",
              "6488          2758                 94115          37.788183   \n",
              "...            ...                   ...                ...   \n",
              "9372         18514                 94110          37.762366   \n",
              "7291          1135                 94115          37.782778   \n",
              "17728        69909                 94110          37.746459   \n",
              "7293         61494                 94124          37.731902   \n",
              "17673        66711                 94133          37.798168   \n",
              "\n",
              "       business_longitude  inspection_score  violation_id  violation_type  \\\n",
              "18492         -122.467090                78        103105               2   \n",
              "6592          -122.441498                92        103120               2   \n",
              "4564          -122.407964                76        103133               1   \n",
              "4094          -122.415829                88        103119               3   \n",
              "6488          -122.446757                90        103131               1   \n",
              "...                   ...               ...           ...             ...   \n",
              "9372          -122.419491                83        103105               2   \n",
              "7291          -122.444744                96        103124               1   \n",
              "17728         -122.419400                94        103142               1   \n",
              "7293          -122.391576                61        103120               2   \n",
              "17673         -122.404605                90        103154               1   \n",
              "\n",
              "       neighborhoods  inspection_year  inspection_month  inspection_day  \n",
              "18492            109             2019                 9               3  \n",
              "6592             103             2017                 3               9  \n",
              "4564             104             2017                11              30  \n",
              "4094              20             2018                 5               1  \n",
              "6488              10             2019                 5               8  \n",
              "...              ...              ...               ...             ...  \n",
              "9372              53             2019                 7              16  \n",
              "7291             103             2017                11               2  \n",
              "17728             83             2018                 3               9  \n",
              "7293              86             2018                 7              18  \n",
              "17673            106             2018                 6              22  \n",
              "\n",
              "[16239 rows x 11 columns]"
            ],
            "text/html": [
              "\n",
              "  <div id=\"df-f382ec2c-eab6-4e6a-8903-447121e46187\">\n",
              "    <div class=\"colab-df-container\">\n",
              "      <div>\n",
              "<style scoped>\n",
              "    .dataframe tbody tr th:only-of-type {\n",
              "        vertical-align: middle;\n",
              "    }\n",
              "\n",
              "    .dataframe tbody tr th {\n",
              "        vertical-align: top;\n",
              "    }\n",
              "\n",
              "    .dataframe thead th {\n",
              "        text-align: right;\n",
              "    }\n",
              "</style>\n",
              "<table border=\"1\" class=\"dataframe\">\n",
              "  <thead>\n",
              "    <tr style=\"text-align: right;\">\n",
              "      <th></th>\n",
              "      <th>business_id</th>\n",
              "      <th>business_postal_code</th>\n",
              "      <th>business_latitude</th>\n",
              "      <th>business_longitude</th>\n",
              "      <th>inspection_score</th>\n",
              "      <th>violation_id</th>\n",
              "      <th>violation_type</th>\n",
              "      <th>neighborhoods</th>\n",
              "      <th>inspection_year</th>\n",
              "      <th>inspection_month</th>\n",
              "      <th>inspection_day</th>\n",
              "    </tr>\n",
              "  </thead>\n",
              "  <tbody>\n",
              "    <tr>\n",
              "      <th>18492</th>\n",
              "      <td>65382</td>\n",
              "      <td>94122</td>\n",
              "      <td>37.763983</td>\n",
              "      <td>-122.467090</td>\n",
              "      <td>78</td>\n",
              "      <td>103105</td>\n",
              "      <td>2</td>\n",
              "      <td>109</td>\n",
              "      <td>2019</td>\n",
              "      <td>9</td>\n",
              "      <td>3</td>\n",
              "    </tr>\n",
              "    <tr>\n",
              "      <th>6592</th>\n",
              "      <td>4700</td>\n",
              "      <td>94115</td>\n",
              "      <td>37.785093</td>\n",
              "      <td>-122.441498</td>\n",
              "      <td>92</td>\n",
              "      <td>103120</td>\n",
              "      <td>2</td>\n",
              "      <td>103</td>\n",
              "      <td>2017</td>\n",
              "      <td>3</td>\n",
              "      <td>9</td>\n",
              "    </tr>\n",
              "    <tr>\n",
              "      <th>4564</th>\n",
              "      <td>3151</td>\n",
              "      <td>94133</td>\n",
              "      <td>37.796808</td>\n",
              "      <td>-122.407964</td>\n",
              "      <td>76</td>\n",
              "      <td>103133</td>\n",
              "      <td>1</td>\n",
              "      <td>104</td>\n",
              "      <td>2017</td>\n",
              "      <td>11</td>\n",
              "      <td>30</td>\n",
              "    </tr>\n",
              "    <tr>\n",
              "      <th>4094</th>\n",
              "      <td>36020</td>\n",
              "      <td>94109</td>\n",
              "      <td>37.783464</td>\n",
              "      <td>-122.415829</td>\n",
              "      <td>88</td>\n",
              "      <td>103119</td>\n",
              "      <td>3</td>\n",
              "      <td>20</td>\n",
              "      <td>2018</td>\n",
              "      <td>5</td>\n",
              "      <td>1</td>\n",
              "    </tr>\n",
              "    <tr>\n",
              "      <th>6488</th>\n",
              "      <td>2758</td>\n",
              "      <td>94115</td>\n",
              "      <td>37.788183</td>\n",
              "      <td>-122.446757</td>\n",
              "      <td>90</td>\n",
              "      <td>103131</td>\n",
              "      <td>1</td>\n",
              "      <td>10</td>\n",
              "      <td>2019</td>\n",
              "      <td>5</td>\n",
              "      <td>8</td>\n",
              "    </tr>\n",
              "    <tr>\n",
              "      <th>...</th>\n",
              "      <td>...</td>\n",
              "      <td>...</td>\n",
              "      <td>...</td>\n",
              "      <td>...</td>\n",
              "      <td>...</td>\n",
              "      <td>...</td>\n",
              "      <td>...</td>\n",
              "      <td>...</td>\n",
              "      <td>...</td>\n",
              "      <td>...</td>\n",
              "      <td>...</td>\n",
              "    </tr>\n",
              "    <tr>\n",
              "      <th>9372</th>\n",
              "      <td>18514</td>\n",
              "      <td>94110</td>\n",
              "      <td>37.762366</td>\n",
              "      <td>-122.419491</td>\n",
              "      <td>83</td>\n",
              "      <td>103105</td>\n",
              "      <td>2</td>\n",
              "      <td>53</td>\n",
              "      <td>2019</td>\n",
              "      <td>7</td>\n",
              "      <td>16</td>\n",
              "    </tr>\n",
              "    <tr>\n",
              "      <th>7291</th>\n",
              "      <td>1135</td>\n",
              "      <td>94115</td>\n",
              "      <td>37.782778</td>\n",
              "      <td>-122.444744</td>\n",
              "      <td>96</td>\n",
              "      <td>103124</td>\n",
              "      <td>1</td>\n",
              "      <td>103</td>\n",
              "      <td>2017</td>\n",
              "      <td>11</td>\n",
              "      <td>2</td>\n",
              "    </tr>\n",
              "    <tr>\n",
              "      <th>17728</th>\n",
              "      <td>69909</td>\n",
              "      <td>94110</td>\n",
              "      <td>37.746459</td>\n",
              "      <td>-122.419400</td>\n",
              "      <td>94</td>\n",
              "      <td>103142</td>\n",
              "      <td>1</td>\n",
              "      <td>83</td>\n",
              "      <td>2018</td>\n",
              "      <td>3</td>\n",
              "      <td>9</td>\n",
              "    </tr>\n",
              "    <tr>\n",
              "      <th>7293</th>\n",
              "      <td>61494</td>\n",
              "      <td>94124</td>\n",
              "      <td>37.731902</td>\n",
              "      <td>-122.391576</td>\n",
              "      <td>61</td>\n",
              "      <td>103120</td>\n",
              "      <td>2</td>\n",
              "      <td>86</td>\n",
              "      <td>2018</td>\n",
              "      <td>7</td>\n",
              "      <td>18</td>\n",
              "    </tr>\n",
              "    <tr>\n",
              "      <th>17673</th>\n",
              "      <td>66711</td>\n",
              "      <td>94133</td>\n",
              "      <td>37.798168</td>\n",
              "      <td>-122.404605</td>\n",
              "      <td>90</td>\n",
              "      <td>103154</td>\n",
              "      <td>1</td>\n",
              "      <td>106</td>\n",
              "      <td>2018</td>\n",
              "      <td>6</td>\n",
              "      <td>22</td>\n",
              "    </tr>\n",
              "  </tbody>\n",
              "</table>\n",
              "<p>16239 rows × 11 columns</p>\n",
              "</div>\n",
              "      <button class=\"colab-df-convert\" onclick=\"convertToInteractive('df-f382ec2c-eab6-4e6a-8903-447121e46187')\"\n",
              "              title=\"Convert this dataframe to an interactive table.\"\n",
              "              style=\"display:none;\">\n",
              "        \n",
              "  <svg xmlns=\"http://www.w3.org/2000/svg\" height=\"24px\"viewBox=\"0 0 24 24\"\n",
              "       width=\"24px\">\n",
              "    <path d=\"M0 0h24v24H0V0z\" fill=\"none\"/>\n",
              "    <path d=\"M18.56 5.44l.94 2.06.94-2.06 2.06-.94-2.06-.94-.94-2.06-.94 2.06-2.06.94zm-11 1L8.5 8.5l.94-2.06 2.06-.94-2.06-.94L8.5 2.5l-.94 2.06-2.06.94zm10 10l.94 2.06.94-2.06 2.06-.94-2.06-.94-.94-2.06-.94 2.06-2.06.94z\"/><path d=\"M17.41 7.96l-1.37-1.37c-.4-.4-.92-.59-1.43-.59-.52 0-1.04.2-1.43.59L10.3 9.45l-7.72 7.72c-.78.78-.78 2.05 0 2.83L4 21.41c.39.39.9.59 1.41.59.51 0 1.02-.2 1.41-.59l7.78-7.78 2.81-2.81c.8-.78.8-2.07 0-2.86zM5.41 20L4 18.59l7.72-7.72 1.47 1.35L5.41 20z\"/>\n",
              "  </svg>\n",
              "      </button>\n",
              "      \n",
              "  <style>\n",
              "    .colab-df-container {\n",
              "      display:flex;\n",
              "      flex-wrap:wrap;\n",
              "      gap: 12px;\n",
              "    }\n",
              "\n",
              "    .colab-df-convert {\n",
              "      background-color: #E8F0FE;\n",
              "      border: none;\n",
              "      border-radius: 50%;\n",
              "      cursor: pointer;\n",
              "      display: none;\n",
              "      fill: #1967D2;\n",
              "      height: 32px;\n",
              "      padding: 0 0 0 0;\n",
              "      width: 32px;\n",
              "    }\n",
              "\n",
              "    .colab-df-convert:hover {\n",
              "      background-color: #E2EBFA;\n",
              "      box-shadow: 0px 1px 2px rgba(60, 64, 67, 0.3), 0px 1px 3px 1px rgba(60, 64, 67, 0.15);\n",
              "      fill: #174EA6;\n",
              "    }\n",
              "\n",
              "    [theme=dark] .colab-df-convert {\n",
              "      background-color: #3B4455;\n",
              "      fill: #D2E3FC;\n",
              "    }\n",
              "\n",
              "    [theme=dark] .colab-df-convert:hover {\n",
              "      background-color: #434B5C;\n",
              "      box-shadow: 0px 1px 3px 1px rgba(0, 0, 0, 0.15);\n",
              "      filter: drop-shadow(0px 1px 2px rgba(0, 0, 0, 0.3));\n",
              "      fill: #FFFFFF;\n",
              "    }\n",
              "  </style>\n",
              "\n",
              "      <script>\n",
              "        const buttonEl =\n",
              "          document.querySelector('#df-f382ec2c-eab6-4e6a-8903-447121e46187 button.colab-df-convert');\n",
              "        buttonEl.style.display =\n",
              "          google.colab.kernel.accessAllowed ? 'block' : 'none';\n",
              "\n",
              "        async function convertToInteractive(key) {\n",
              "          const element = document.querySelector('#df-f382ec2c-eab6-4e6a-8903-447121e46187');\n",
              "          const dataTable =\n",
              "            await google.colab.kernel.invokeFunction('convertToInteractive',\n",
              "                                                     [key], {});\n",
              "          if (!dataTable) return;\n",
              "\n",
              "          const docLinkHtml = 'Like what you see? Visit the ' +\n",
              "            '<a target=\"_blank\" href=https://colab.research.google.com/notebooks/data_table.ipynb>data table notebook</a>'\n",
              "            + ' to learn more about interactive tables.';\n",
              "          element.innerHTML = '';\n",
              "          dataTable['output_type'] = 'display_data';\n",
              "          await google.colab.output.renderOutput(dataTable, element);\n",
              "          const docLink = document.createElement('div');\n",
              "          docLink.innerHTML = docLinkHtml;\n",
              "          element.appendChild(docLink);\n",
              "        }\n",
              "      </script>\n",
              "    </div>\n",
              "  </div>\n",
              "  "
            ]
          },
          "metadata": {},
          "execution_count": 359
        }
      ]
    },
    {
      "cell_type": "code",
      "source": [
        "X_test"
      ],
      "metadata": {
        "colab": {
          "base_uri": "https://localhost:8080/",
          "height": 488
        },
        "id": "lhWH0NAv90ca",
        "outputId": "c5e10952-0a59-48f3-bb61-742ba28c058a"
      },
      "execution_count": 360,
      "outputs": [
        {
          "output_type": "execute_result",
          "data": {
            "text/plain": [
              "       business_id  business_postal_code  business_latitude  \\\n",
              "10674         4794                 94107          37.778634   \n",
              "3367           816                 94124          37.722374   \n",
              "15907         7759                 94112          37.723086   \n",
              "1503          4762                 94133          37.808616   \n",
              "8537         61494                 94124          37.731902   \n",
              "...            ...                   ...                ...   \n",
              "5606         64466                 94121          37.775813   \n",
              "19737        70960                 94102          37.777273   \n",
              "1716          1617                 94118          37.782843   \n",
              "6197          3935                 94109          37.788108   \n",
              "6433          2360                 94110          37.750855   \n",
              "\n",
              "       business_longitude  inspection_score  violation_id  violation_type  \\\n",
              "10674         -122.393089                71        103114               1   \n",
              "3367          -122.395841                85        103105               2   \n",
              "15907         -122.435983                89        103161               1   \n",
              "1503          -122.415779                98        103161               1   \n",
              "8537          -122.391576                61        103132               2   \n",
              "...                   ...               ...           ...             ...   \n",
              "5606          -122.494499                86        103145               2   \n",
              "19737         -122.423084                86        103154               1   \n",
              "1716          -122.465900                71        103142               1   \n",
              "6197          -122.412394                96        103120               2   \n",
              "6433          -122.418286                87        103149               1   \n",
              "\n",
              "       neighborhoods  inspection_year  inspection_month  inspection_day  \n",
              "10674             32             2018                10              30  \n",
              "3367              88             2017                 1              17  \n",
              "15907             90             2017                 3              21  \n",
              "1503              99             2019                 5               8  \n",
              "8537              86             2019                 2               7  \n",
              "...              ...              ...               ...             ...  \n",
              "5606               8             2018                 2               8  \n",
              "19737             22             2019                 3              21  \n",
              "1716               5             2018                 5              22  \n",
              "6197              50             2019                 6               3  \n",
              "6433              53             2018                 6               7  \n",
              "\n",
              "[4060 rows x 11 columns]"
            ],
            "text/html": [
              "\n",
              "  <div id=\"df-f6cb8a39-c4bf-439f-b0e6-8ca1924e0934\">\n",
              "    <div class=\"colab-df-container\">\n",
              "      <div>\n",
              "<style scoped>\n",
              "    .dataframe tbody tr th:only-of-type {\n",
              "        vertical-align: middle;\n",
              "    }\n",
              "\n",
              "    .dataframe tbody tr th {\n",
              "        vertical-align: top;\n",
              "    }\n",
              "\n",
              "    .dataframe thead th {\n",
              "        text-align: right;\n",
              "    }\n",
              "</style>\n",
              "<table border=\"1\" class=\"dataframe\">\n",
              "  <thead>\n",
              "    <tr style=\"text-align: right;\">\n",
              "      <th></th>\n",
              "      <th>business_id</th>\n",
              "      <th>business_postal_code</th>\n",
              "      <th>business_latitude</th>\n",
              "      <th>business_longitude</th>\n",
              "      <th>inspection_score</th>\n",
              "      <th>violation_id</th>\n",
              "      <th>violation_type</th>\n",
              "      <th>neighborhoods</th>\n",
              "      <th>inspection_year</th>\n",
              "      <th>inspection_month</th>\n",
              "      <th>inspection_day</th>\n",
              "    </tr>\n",
              "  </thead>\n",
              "  <tbody>\n",
              "    <tr>\n",
              "      <th>10674</th>\n",
              "      <td>4794</td>\n",
              "      <td>94107</td>\n",
              "      <td>37.778634</td>\n",
              "      <td>-122.393089</td>\n",
              "      <td>71</td>\n",
              "      <td>103114</td>\n",
              "      <td>1</td>\n",
              "      <td>32</td>\n",
              "      <td>2018</td>\n",
              "      <td>10</td>\n",
              "      <td>30</td>\n",
              "    </tr>\n",
              "    <tr>\n",
              "      <th>3367</th>\n",
              "      <td>816</td>\n",
              "      <td>94124</td>\n",
              "      <td>37.722374</td>\n",
              "      <td>-122.395841</td>\n",
              "      <td>85</td>\n",
              "      <td>103105</td>\n",
              "      <td>2</td>\n",
              "      <td>88</td>\n",
              "      <td>2017</td>\n",
              "      <td>1</td>\n",
              "      <td>17</td>\n",
              "    </tr>\n",
              "    <tr>\n",
              "      <th>15907</th>\n",
              "      <td>7759</td>\n",
              "      <td>94112</td>\n",
              "      <td>37.723086</td>\n",
              "      <td>-122.435983</td>\n",
              "      <td>89</td>\n",
              "      <td>103161</td>\n",
              "      <td>1</td>\n",
              "      <td>90</td>\n",
              "      <td>2017</td>\n",
              "      <td>3</td>\n",
              "      <td>21</td>\n",
              "    </tr>\n",
              "    <tr>\n",
              "      <th>1503</th>\n",
              "      <td>4762</td>\n",
              "      <td>94133</td>\n",
              "      <td>37.808616</td>\n",
              "      <td>-122.415779</td>\n",
              "      <td>98</td>\n",
              "      <td>103161</td>\n",
              "      <td>1</td>\n",
              "      <td>99</td>\n",
              "      <td>2019</td>\n",
              "      <td>5</td>\n",
              "      <td>8</td>\n",
              "    </tr>\n",
              "    <tr>\n",
              "      <th>8537</th>\n",
              "      <td>61494</td>\n",
              "      <td>94124</td>\n",
              "      <td>37.731902</td>\n",
              "      <td>-122.391576</td>\n",
              "      <td>61</td>\n",
              "      <td>103132</td>\n",
              "      <td>2</td>\n",
              "      <td>86</td>\n",
              "      <td>2019</td>\n",
              "      <td>2</td>\n",
              "      <td>7</td>\n",
              "    </tr>\n",
              "    <tr>\n",
              "      <th>...</th>\n",
              "      <td>...</td>\n",
              "      <td>...</td>\n",
              "      <td>...</td>\n",
              "      <td>...</td>\n",
              "      <td>...</td>\n",
              "      <td>...</td>\n",
              "      <td>...</td>\n",
              "      <td>...</td>\n",
              "      <td>...</td>\n",
              "      <td>...</td>\n",
              "      <td>...</td>\n",
              "    </tr>\n",
              "    <tr>\n",
              "      <th>5606</th>\n",
              "      <td>64466</td>\n",
              "      <td>94121</td>\n",
              "      <td>37.775813</td>\n",
              "      <td>-122.494499</td>\n",
              "      <td>86</td>\n",
              "      <td>103145</td>\n",
              "      <td>2</td>\n",
              "      <td>8</td>\n",
              "      <td>2018</td>\n",
              "      <td>2</td>\n",
              "      <td>8</td>\n",
              "    </tr>\n",
              "    <tr>\n",
              "      <th>19737</th>\n",
              "      <td>70960</td>\n",
              "      <td>94102</td>\n",
              "      <td>37.777273</td>\n",
              "      <td>-122.423084</td>\n",
              "      <td>86</td>\n",
              "      <td>103154</td>\n",
              "      <td>1</td>\n",
              "      <td>22</td>\n",
              "      <td>2019</td>\n",
              "      <td>3</td>\n",
              "      <td>21</td>\n",
              "    </tr>\n",
              "    <tr>\n",
              "      <th>1716</th>\n",
              "      <td>1617</td>\n",
              "      <td>94118</td>\n",
              "      <td>37.782843</td>\n",
              "      <td>-122.465900</td>\n",
              "      <td>71</td>\n",
              "      <td>103142</td>\n",
              "      <td>1</td>\n",
              "      <td>5</td>\n",
              "      <td>2018</td>\n",
              "      <td>5</td>\n",
              "      <td>22</td>\n",
              "    </tr>\n",
              "    <tr>\n",
              "      <th>6197</th>\n",
              "      <td>3935</td>\n",
              "      <td>94109</td>\n",
              "      <td>37.788108</td>\n",
              "      <td>-122.412394</td>\n",
              "      <td>96</td>\n",
              "      <td>103120</td>\n",
              "      <td>2</td>\n",
              "      <td>50</td>\n",
              "      <td>2019</td>\n",
              "      <td>6</td>\n",
              "      <td>3</td>\n",
              "    </tr>\n",
              "    <tr>\n",
              "      <th>6433</th>\n",
              "      <td>2360</td>\n",
              "      <td>94110</td>\n",
              "      <td>37.750855</td>\n",
              "      <td>-122.418286</td>\n",
              "      <td>87</td>\n",
              "      <td>103149</td>\n",
              "      <td>1</td>\n",
              "      <td>53</td>\n",
              "      <td>2018</td>\n",
              "      <td>6</td>\n",
              "      <td>7</td>\n",
              "    </tr>\n",
              "  </tbody>\n",
              "</table>\n",
              "<p>4060 rows × 11 columns</p>\n",
              "</div>\n",
              "      <button class=\"colab-df-convert\" onclick=\"convertToInteractive('df-f6cb8a39-c4bf-439f-b0e6-8ca1924e0934')\"\n",
              "              title=\"Convert this dataframe to an interactive table.\"\n",
              "              style=\"display:none;\">\n",
              "        \n",
              "  <svg xmlns=\"http://www.w3.org/2000/svg\" height=\"24px\"viewBox=\"0 0 24 24\"\n",
              "       width=\"24px\">\n",
              "    <path d=\"M0 0h24v24H0V0z\" fill=\"none\"/>\n",
              "    <path d=\"M18.56 5.44l.94 2.06.94-2.06 2.06-.94-2.06-.94-.94-2.06-.94 2.06-2.06.94zm-11 1L8.5 8.5l.94-2.06 2.06-.94-2.06-.94L8.5 2.5l-.94 2.06-2.06.94zm10 10l.94 2.06.94-2.06 2.06-.94-2.06-.94-.94-2.06-.94 2.06-2.06.94z\"/><path d=\"M17.41 7.96l-1.37-1.37c-.4-.4-.92-.59-1.43-.59-.52 0-1.04.2-1.43.59L10.3 9.45l-7.72 7.72c-.78.78-.78 2.05 0 2.83L4 21.41c.39.39.9.59 1.41.59.51 0 1.02-.2 1.41-.59l7.78-7.78 2.81-2.81c.8-.78.8-2.07 0-2.86zM5.41 20L4 18.59l7.72-7.72 1.47 1.35L5.41 20z\"/>\n",
              "  </svg>\n",
              "      </button>\n",
              "      \n",
              "  <style>\n",
              "    .colab-df-container {\n",
              "      display:flex;\n",
              "      flex-wrap:wrap;\n",
              "      gap: 12px;\n",
              "    }\n",
              "\n",
              "    .colab-df-convert {\n",
              "      background-color: #E8F0FE;\n",
              "      border: none;\n",
              "      border-radius: 50%;\n",
              "      cursor: pointer;\n",
              "      display: none;\n",
              "      fill: #1967D2;\n",
              "      height: 32px;\n",
              "      padding: 0 0 0 0;\n",
              "      width: 32px;\n",
              "    }\n",
              "\n",
              "    .colab-df-convert:hover {\n",
              "      background-color: #E2EBFA;\n",
              "      box-shadow: 0px 1px 2px rgba(60, 64, 67, 0.3), 0px 1px 3px 1px rgba(60, 64, 67, 0.15);\n",
              "      fill: #174EA6;\n",
              "    }\n",
              "\n",
              "    [theme=dark] .colab-df-convert {\n",
              "      background-color: #3B4455;\n",
              "      fill: #D2E3FC;\n",
              "    }\n",
              "\n",
              "    [theme=dark] .colab-df-convert:hover {\n",
              "      background-color: #434B5C;\n",
              "      box-shadow: 0px 1px 3px 1px rgba(0, 0, 0, 0.15);\n",
              "      filter: drop-shadow(0px 1px 2px rgba(0, 0, 0, 0.3));\n",
              "      fill: #FFFFFF;\n",
              "    }\n",
              "  </style>\n",
              "\n",
              "      <script>\n",
              "        const buttonEl =\n",
              "          document.querySelector('#df-f6cb8a39-c4bf-439f-b0e6-8ca1924e0934 button.colab-df-convert');\n",
              "        buttonEl.style.display =\n",
              "          google.colab.kernel.accessAllowed ? 'block' : 'none';\n",
              "\n",
              "        async function convertToInteractive(key) {\n",
              "          const element = document.querySelector('#df-f6cb8a39-c4bf-439f-b0e6-8ca1924e0934');\n",
              "          const dataTable =\n",
              "            await google.colab.kernel.invokeFunction('convertToInteractive',\n",
              "                                                     [key], {});\n",
              "          if (!dataTable) return;\n",
              "\n",
              "          const docLinkHtml = 'Like what you see? Visit the ' +\n",
              "            '<a target=\"_blank\" href=https://colab.research.google.com/notebooks/data_table.ipynb>data table notebook</a>'\n",
              "            + ' to learn more about interactive tables.';\n",
              "          element.innerHTML = '';\n",
              "          dataTable['output_type'] = 'display_data';\n",
              "          await google.colab.output.renderOutput(dataTable, element);\n",
              "          const docLink = document.createElement('div');\n",
              "          docLink.innerHTML = docLinkHtml;\n",
              "          element.appendChild(docLink);\n",
              "        }\n",
              "      </script>\n",
              "    </div>\n",
              "  </div>\n",
              "  "
            ]
          },
          "metadata": {},
          "execution_count": 360
        }
      ]
    },
    {
      "cell_type": "markdown",
      "source": [
        "# Modeling"
      ],
      "metadata": {
        "id": "TA5bQ0Rk-SMU"
      }
    },
    {
      "cell_type": "code",
      "source": [
        "from sklearn.metrics import accuracy_score, f1_score, precision_score, recall_score, classification_report\n",
        "\n",
        "def displayMetrics(name, y_true, y_pred):\n",
        "  print('Accuracy', name,': ', accuracy_score(y_true, y_pred))\n",
        "  print('Precision Score', name,': ', precision_score(y_true, y_pred, average=None)) \n",
        "  print('Recall', name,': ', recall_score(y_true, y_pred, average=None))\n",
        "  print('F1 Score', name,': ', f1_score(y_true, y_pred, average=None))"
      ],
      "metadata": {
        "id": "dxv2uVSM9-9k"
      },
      "execution_count": 361,
      "outputs": []
    },
    {
      "cell_type": "code",
      "source": [
        "from sklearn.metrics import confusion_matrix\n",
        "\n",
        "def plot_confusion_matrix(name, y_true, y_pred):\n",
        "  conf_matrix = confusion_matrix(y_true, y_pred)\n",
        "  fig, ax = plt.subplots(figsize=(5, 5))\n",
        "  ax.matshow(conf_matrix, cmap=plt.cm.Blues, alpha=0.3)\n",
        "  for i in range(conf_matrix.shape[0]):\n",
        "      for j in range(conf_matrix.shape[1]):\n",
        "          ax.text(x=j, y=i,s=conf_matrix[i, j], va='center', ha='center')\n",
        "  \n",
        "  plt.xlabel('Predictions')\n",
        "  plt.ylabel('Actuals')\n",
        "  plt.title('Confusion Matrix {}'.format(name))\n",
        "  plt.show()"
      ],
      "metadata": {
        "id": "6ME4_ljJSGR9"
      },
      "execution_count": 362,
      "outputs": []
    },
    {
      "cell_type": "markdown",
      "source": [
        "## Linear Model"
      ],
      "metadata": {
        "id": "3fMbc4LH-mKc"
      }
    },
    {
      "cell_type": "markdown",
      "source": [
        "### Logistic Regression (Base)"
      ],
      "metadata": {
        "id": "myc4o1un-z8u"
      }
    },
    {
      "cell_type": "code",
      "source": [
        "from sklearn.linear_model import LogisticRegression\n",
        "\n",
        "logis = LogisticRegression(max_iter=1000)\n",
        "logis.fit(X_train, y_train)"
      ],
      "metadata": {
        "colab": {
          "base_uri": "https://localhost:8080/"
        },
        "id": "Iqnusfhz-2cY",
        "outputId": "00d582f8-a3bb-46d3-f928-714d43be8878"
      },
      "execution_count": 363,
      "outputs": [
        {
          "output_type": "execute_result",
          "data": {
            "text/plain": [
              "LogisticRegression(max_iter=1000)"
            ]
          },
          "metadata": {},
          "execution_count": 363
        }
      ]
    },
    {
      "cell_type": "markdown",
      "source": [
        "Training Data Report"
      ],
      "metadata": {
        "id": "ZYhKB7ToJdOO"
      }
    },
    {
      "cell_type": "code",
      "source": [
        "y_pred_train_logis = logis.predict(X_train)\n",
        "displayMetrics(\"(Base Training)\", y_train, y_pred_train_logis)"
      ],
      "metadata": {
        "colab": {
          "base_uri": "https://localhost:8080/"
        },
        "id": "BE54E9OrCxKw",
        "outputId": "30a9fef2-ffd7-4ac9-d4b4-9d525934fea4"
      },
      "execution_count": 364,
      "outputs": [
        {
          "output_type": "stream",
          "name": "stdout",
          "text": [
            "Accuracy (Base Training) :  0.7399470410739577\n",
            "Precision Score (Base Training) :  [0.82945736 0.63913576 0.69609079]\n",
            "Recall (Base Training) :  [0.84579674 0.69147878 0.4935181 ]\n",
            "F1 Score (Base Training) :  [0.83754737 0.66427775 0.57755689]\n"
          ]
        }
      ]
    },
    {
      "cell_type": "code",
      "source": [
        "print(classification_report(y_train, y_pred_train_logis, target_names=target_names))"
      ],
      "metadata": {
        "colab": {
          "base_uri": "https://localhost:8080/"
        },
        "id": "cI5crliCJGyU",
        "outputId": "5f763566-4b20-4323-fa70-b6529096267a"
      },
      "execution_count": 365,
      "outputs": [
        {
          "output_type": "stream",
          "name": "stdout",
          "text": [
            "              precision    recall  f1-score   support\n",
            "\n",
            "    Low Risk       0.83      0.85      0.84      7970\n",
            " Medium Risk       0.64      0.69      0.66      6032\n",
            "   High Risk       0.70      0.49      0.58      2237\n",
            "\n",
            "    accuracy                           0.74     16239\n",
            "   macro avg       0.72      0.68      0.69     16239\n",
            "weighted avg       0.74      0.74      0.74     16239\n",
            "\n"
          ]
        }
      ]
    },
    {
      "cell_type": "code",
      "source": [
        "plot_confusion_matrix(\"(Base Training)\", y_train, y_pred_train_logis)"
      ],
      "metadata": {
        "colab": {
          "base_uri": "https://localhost:8080/",
          "height": 346
        },
        "id": "IcfNVQQCKiKa",
        "outputId": "aacc9e82-a51b-42ff-da32-471948c893fa"
      },
      "execution_count": 366,
      "outputs": [
        {
          "output_type": "display_data",
          "data": {
            "text/plain": [
              "<Figure size 360x360 with 1 Axes>"
            ],
            "image/png": "[encoded data removed]"
          },
          "metadata": {
            "needs_background": "light"
          }
        }
      ]
    },
    {
      "cell_type": "markdown",
      "source": [
        "Testing Data Report"
      ],
      "metadata": {
        "id": "1gvVsQ5QJhFo"
      }
    },
    {
      "cell_type": "code",
      "source": [
        "y_pred_test_logis = logis.predict(X_test)\n",
        "displayMetrics(\"(Base Testing)\", y_test, y_pred_test_logis)"
      ],
      "metadata": {
        "colab": {
          "base_uri": "https://localhost:8080/"
        },
        "id": "AkAPGZn4EUvn",
        "outputId": "df1a78e5-7b3f-4042-ea95-6d626a9db3db"
      },
      "execution_count": 367,
      "outputs": [
        {
          "output_type": "stream",
          "name": "stdout",
          "text": [
            "Accuracy (Base Testing) :  0.734975369458128\n",
            "Precision Score (Base Testing) :  [0.81157194 0.65002936 0.72277228]\n",
            "Recall (Base Testing) :  [0.84353379 0.69798235 0.4907563 ]\n",
            "F1 Score (Base Testing) :  [0.82724426 0.67315293 0.58458458]\n"
          ]
        }
      ]
    },
    {
      "cell_type": "code",
      "source": [
        "print(classification_report(y_test, y_pred_test_logis, target_names=target_names))"
      ],
      "metadata": {
        "colab": {
          "base_uri": "https://localhost:8080/"
        },
        "id": "VBiTufn9JkKw",
        "outputId": "89c9a11b-3a76-482b-f994-349f448683af"
      },
      "execution_count": 368,
      "outputs": [
        {
          "output_type": "stream",
          "name": "stdout",
          "text": [
            "              precision    recall  f1-score   support\n",
            "\n",
            "    Low Risk       0.81      0.84      0.83      1879\n",
            " Medium Risk       0.65      0.70      0.67      1586\n",
            "   High Risk       0.72      0.49      0.58       595\n",
            "\n",
            "    accuracy                           0.73      4060\n",
            "   macro avg       0.73      0.68      0.69      4060\n",
            "weighted avg       0.74      0.73      0.73      4060\n",
            "\n"
          ]
        }
      ]
    },
    {
      "cell_type": "code",
      "source": [
        "plot_confusion_matrix(\"(Base Testing)\", y_test, y_pred_test_logis)"
      ],
      "metadata": {
        "colab": {
          "base_uri": "https://localhost:8080/",
          "height": 346
        },
        "id": "_DQbuLs1K12j",
        "outputId": "bc89d554-1d75-4208-a25b-cbe7577784cd"
      },
      "execution_count": 369,
      "outputs": [
        {
          "output_type": "display_data",
          "data": {
            "text/plain": [
              "<Figure size 360x360 with 1 Axes>"
            ],
            "image/png": "[encoded data removed]"
          },
          "metadata": {
            "needs_background": "light"
          }
        }
      ]
    },
    {
      "cell_type": "markdown",
      "source": [
        "### Logistic Regression (Newton-Saga Solver)"
      ],
      "metadata": {
        "id": "jAFku6eAE3BX"
      }
    },
    {
      "cell_type": "code",
      "source": [
        "logis_nw = LogisticRegression(solver='newton-cg', max_iter=1000)\n",
        "logis_nw.fit(X_train, y_train)"
      ],
      "metadata": {
        "colab": {
          "base_uri": "https://localhost:8080/"
        },
        "id": "HXJcjHpDEOe1",
        "outputId": "c63da237-fa0a-4381-f928-70a0fccecf91"
      },
      "execution_count": 370,
      "outputs": [
        {
          "output_type": "stream",
          "name": "stderr",
          "text": [
            "/usr/local/lib/python3.7/dist-packages/scipy/optimize/linesearch.py:478: LineSearchWarning: The line search algorithm did not converge\n",
            "  warn('The line search algorithm did not converge', LineSearchWarning)\n",
            "/usr/local/lib/python3.7/dist-packages/scipy/optimize/linesearch.py:327: LineSearchWarning: The line search algorithm did not converge\n",
            "  warn('The line search algorithm did not converge', LineSearchWarning)\n",
            "/usr/local/lib/python3.7/dist-packages/sklearn/utils/optimize.py:203: UserWarning: Line Search failed\n",
            "  warnings.warn(\"Line Search failed\")\n"
          ]
        },
        {
          "output_type": "execute_result",
          "data": {
            "text/plain": [
              "LogisticRegression(max_iter=1000, solver='newton-cg')"
            ]
          },
          "metadata": {},
          "execution_count": 370
        }
      ]
    },
    {
      "cell_type": "markdown",
      "source": [
        "Training Data Report"
      ],
      "metadata": {
        "id": "SRwH4H_7LEOk"
      }
    },
    {
      "cell_type": "code",
      "source": [
        "y_pred_train_logis_nw = logis_nw.predict(X_train)\n",
        "displayMetrics(\"(Newton Training)\", y_train, y_pred_train_logis_nw)"
      ],
      "metadata": {
        "colab": {
          "base_uri": "https://localhost:8080/"
        },
        "id": "TC8yyWpOE-MO",
        "outputId": "7410093c-41e6-415e-d72b-8af291d150e2"
      },
      "execution_count": 371,
      "outputs": [
        {
          "output_type": "stream",
          "name": "stdout",
          "text": [
            "Accuracy (Newton Training) :  0.7948149516595849\n",
            "Precision Score (Newton Training) :  [0.87370652 0.7063129  0.76325301]\n",
            "Recall (Newton Training) :  [0.87929737 0.76790451 0.56638355]\n",
            "F1 Score (Newton Training) :  [0.87649303 0.73582208 0.65024378]\n"
          ]
        }
      ]
    },
    {
      "cell_type": "code",
      "source": [
        "print(classification_report(y_train, y_pred_train_logis_nw, target_names=target_names))"
      ],
      "metadata": {
        "colab": {
          "base_uri": "https://localhost:8080/"
        },
        "outputId": "8ddcd246-d835-4b58-c2b6-650c182684bf",
        "id": "wycI8vI7LEOk"
      },
      "execution_count": 372,
      "outputs": [
        {
          "output_type": "stream",
          "name": "stdout",
          "text": [
            "              precision    recall  f1-score   support\n",
            "\n",
            "    Low Risk       0.87      0.88      0.88      7970\n",
            " Medium Risk       0.71      0.77      0.74      6032\n",
            "   High Risk       0.76      0.57      0.65      2237\n",
            "\n",
            "    accuracy                           0.79     16239\n",
            "   macro avg       0.78      0.74      0.75     16239\n",
            "weighted avg       0.80      0.79      0.79     16239\n",
            "\n"
          ]
        }
      ]
    },
    {
      "cell_type": "code",
      "source": [
        "plot_confusion_matrix(\"(Newton Training)\", y_train, y_pred_train_logis_nw)"
      ],
      "metadata": {
        "colab": {
          "base_uri": "https://localhost:8080/",
          "height": 346
        },
        "outputId": "4cdcfb14-7f8d-4427-c245-0c3f9b7c4c89",
        "id": "9fDpC-8HLEOl"
      },
      "execution_count": 373,
      "outputs": [
        {
          "output_type": "display_data",
          "data": {
            "text/plain": [
              "<Figure size 360x360 with 1 Axes>"
            ],
            "image/png": "[encoded data removed]"
          },
          "metadata": {
            "needs_background": "light"
          }
        }
      ]
    },
    {
      "cell_type": "markdown",
      "source": [
        "Testing Data Report"
      ],
      "metadata": {
        "id": "GTcJgTOSLVQV"
      }
    },
    {
      "cell_type": "code",
      "source": [
        "y_pred_test_logis_nw = logis_nw.predict(X_test)\n",
        "displayMetrics(\"(Newton Testing)\", y_test, y_pred_test_logis_nw)"
      ],
      "metadata": {
        "colab": {
          "base_uri": "https://localhost:8080/"
        },
        "id": "6OpjzUQ-FByJ",
        "outputId": "f85779b0-0a94-45f6-bb81-76ebeec4fe8d"
      },
      "execution_count": 374,
      "outputs": [
        {
          "output_type": "stream",
          "name": "stdout",
          "text": [
            "Accuracy (Newton Testing) :  0.7891625615763547\n",
            "Precision Score (Newton Testing) :  [0.85841636 0.71098266 0.79669031]\n",
            "Recall (Newton Testing) :  [0.87120809 0.77553594 0.56638655]\n",
            "F1 Score (Newton Testing) :  [0.86476492 0.74185766 0.66208251]\n"
          ]
        }
      ]
    },
    {
      "cell_type": "code",
      "source": [
        "print(classification_report(y_test, y_pred_test_logis_nw, target_names=target_names))"
      ],
      "metadata": {
        "colab": {
          "base_uri": "https://localhost:8080/"
        },
        "outputId": "1b8998fa-32ea-413a-81fb-50128665cd2c",
        "id": "VIN8zqBfLVQW"
      },
      "execution_count": 375,
      "outputs": [
        {
          "output_type": "stream",
          "name": "stdout",
          "text": [
            "              precision    recall  f1-score   support\n",
            "\n",
            "    Low Risk       0.86      0.87      0.86      1879\n",
            " Medium Risk       0.71      0.78      0.74      1586\n",
            "   High Risk       0.80      0.57      0.66       595\n",
            "\n",
            "    accuracy                           0.79      4060\n",
            "   macro avg       0.79      0.74      0.76      4060\n",
            "weighted avg       0.79      0.79      0.79      4060\n",
            "\n"
          ]
        }
      ]
    },
    {
      "cell_type": "code",
      "source": [
        "plot_confusion_matrix(\"(Base Testing)\", y_test, y_pred_test_logis_nw)"
      ],
      "metadata": {
        "colab": {
          "base_uri": "https://localhost:8080/",
          "height": 346
        },
        "outputId": "4d4e810a-4b5c-429c-ed08-98a871bf7949",
        "id": "kcodthuKLVQW"
      },
      "execution_count": 376,
      "outputs": [
        {
          "output_type": "display_data",
          "data": {
            "text/plain": [
              "<Figure size 360x360 with 1 Axes>"
            ],
            "image/png": "[encoded data removed]"
          },
          "metadata": {
            "needs_background": "light"
          }
        }
      ]
    },
    {
      "cell_type": "markdown",
      "source": [
        "## Geometric Model"
      ],
      "metadata": {
        "id": "KuWcB_8V-qee"
      }
    },
    {
      "cell_type": "markdown",
      "source": [
        "### KNN (Eucledian Metric)"
      ],
      "metadata": {
        "id": "TArUBfvL-20k"
      }
    },
    {
      "cell_type": "code",
      "source": [
        "from sklearn.neighbors import KNeighborsClassifier\n",
        "\n",
        "neigh_euc = KNeighborsClassifier(n_neighbors=8, p=2)\n",
        "neigh_euc.fit(X_train, y_train)"
      ],
      "metadata": {
        "colab": {
          "base_uri": "https://localhost:8080/"
        },
        "id": "vxcI_DFA-1nv",
        "outputId": "6d0a2640-795b-4bfa-e96b-8a1d9b9f7de3"
      },
      "execution_count": 377,
      "outputs": [
        {
          "output_type": "execute_result",
          "data": {
            "text/plain": [
              "KNeighborsClassifier(n_neighbors=8)"
            ]
          },
          "metadata": {},
          "execution_count": 377
        }
      ]
    },
    {
      "cell_type": "markdown",
      "source": [
        "Training Data Report"
      ],
      "metadata": {
        "id": "KAq2vfnSLm41"
      }
    },
    {
      "cell_type": "code",
      "source": [
        "y_pred_train_neigh_euc = neigh_euc.predict(X_train)\n",
        "displayMetrics(\"(KNN Eucledian Training)\", y_train, y_pred_train_neigh_euc)"
      ],
      "metadata": {
        "colab": {
          "base_uri": "https://localhost:8080/"
        },
        "id": "RlN6MfM-Fr2k",
        "outputId": "070e6f3a-687d-4374-b51f-b463a279f5a9"
      },
      "execution_count": 378,
      "outputs": [
        {
          "output_type": "stream",
          "name": "stdout",
          "text": [
            "Accuracy (KNN Eucledian Training) :  0.8268982080177351\n",
            "Precision Score (KNN Eucledian Training) :  [0.86252523 0.7628125  0.92725299]\n",
            "Recall (KNN Eucledian Training) :  [0.9651192  0.80935013 0.38176129]\n",
            "F1 Score (KNN Eucledian Training) :  [0.91094268 0.78539254 0.54084864]\n"
          ]
        }
      ]
    },
    {
      "cell_type": "code",
      "source": [
        "print(classification_report(y_train, y_pred_train_neigh_euc, target_names=target_names))"
      ],
      "metadata": {
        "colab": {
          "base_uri": "https://localhost:8080/"
        },
        "outputId": "2de06adc-1538-403f-ef9d-110be93adb88",
        "id": "6hrpKrxsLm41"
      },
      "execution_count": 379,
      "outputs": [
        {
          "output_type": "stream",
          "name": "stdout",
          "text": [
            "              precision    recall  f1-score   support\n",
            "\n",
            "    Low Risk       0.86      0.97      0.91      7970\n",
            " Medium Risk       0.76      0.81      0.79      6032\n",
            "   High Risk       0.93      0.38      0.54      2237\n",
            "\n",
            "    accuracy                           0.83     16239\n",
            "   macro avg       0.85      0.72      0.75     16239\n",
            "weighted avg       0.83      0.83      0.81     16239\n",
            "\n"
          ]
        }
      ]
    },
    {
      "cell_type": "code",
      "source": [
        "plot_confusion_matrix(\"(KNN Eucledian Training)\", y_train, y_pred_train_neigh_euc)"
      ],
      "metadata": {
        "colab": {
          "base_uri": "https://localhost:8080/",
          "height": 346
        },
        "outputId": "fdc7cea5-a6e0-4c82-84f8-37f9d06f86fb",
        "id": "XoLYX6jyLm41"
      },
      "execution_count": 380,
      "outputs": [
        {
          "output_type": "display_data",
          "data": {
            "text/plain": [
              "<Figure size 360x360 with 1 Axes>"
            ],
            "image/png": "[encoded data removed]"
          },
          "metadata": {
            "needs_background": "light"
          }
        }
      ]
    },
    {
      "cell_type": "markdown",
      "source": [
        "Testing Data Report"
      ],
      "metadata": {
        "id": "dlHpSIEcLxEi"
      }
    },
    {
      "cell_type": "code",
      "source": [
        "y_pred_test_neigh_euc = neigh_euc.predict(X_test)\n",
        "displayMetrics(\"(KNN Eucledian Testing)\", y_test, y_pred_test_neigh_euc)"
      ],
      "metadata": {
        "colab": {
          "base_uri": "https://localhost:8080/"
        },
        "id": "_BJO2gOoGP79",
        "outputId": "909d52e0-05b1-4818-8aeb-880fa82fddcd"
      },
      "execution_count": 381,
      "outputs": [
        {
          "output_type": "stream",
          "name": "stdout",
          "text": [
            "Accuracy (KNN Eucledian Testing) :  0.74064039408867\n",
            "Precision Score (KNN Eucledian Testing) :  [0.78388113 0.67924528 0.76530612]\n",
            "Recall (KNN Eucledian Testing) :  [0.92655668 0.703657   0.25210084]\n",
            "F1 Score (KNN Eucledian Testing) :  [0.84926829 0.69123568 0.37926675]\n"
          ]
        }
      ]
    },
    {
      "cell_type": "code",
      "source": [
        "print(classification_report(y_test, y_pred_test_neigh_euc, target_names=target_names))"
      ],
      "metadata": {
        "colab": {
          "base_uri": "https://localhost:8080/"
        },
        "outputId": "c8d22e07-40d1-4cfe-da8a-449e9510a169",
        "id": "wKMFy1QtLxEj"
      },
      "execution_count": 382,
      "outputs": [
        {
          "output_type": "stream",
          "name": "stdout",
          "text": [
            "              precision    recall  f1-score   support\n",
            "\n",
            "    Low Risk       0.78      0.93      0.85      1879\n",
            " Medium Risk       0.68      0.70      0.69      1586\n",
            "   High Risk       0.77      0.25      0.38       595\n",
            "\n",
            "    accuracy                           0.74      4060\n",
            "   macro avg       0.74      0.63      0.64      4060\n",
            "weighted avg       0.74      0.74      0.72      4060\n",
            "\n"
          ]
        }
      ]
    },
    {
      "cell_type": "code",
      "source": [
        "plot_confusion_matrix(\"(KNN Eucledian Testing)\", y_test, y_pred_test_neigh_euc)"
      ],
      "metadata": {
        "colab": {
          "base_uri": "https://localhost:8080/",
          "height": 346
        },
        "outputId": "b43da581-fae1-4e6d-a1d0-30d25f3b9a8b",
        "id": "8aG19LCtLxEj"
      },
      "execution_count": 383,
      "outputs": [
        {
          "output_type": "display_data",
          "data": {
            "text/plain": [
              "<Figure size 360x360 with 1 Axes>"
            ],
            "image/png": "[encoded data removed]"
          },
          "metadata": {
            "needs_background": "light"
          }
        }
      ]
    },
    {
      "cell_type": "markdown",
      "source": [
        "### KNN (Manhatten Metric)"
      ],
      "metadata": {
        "id": "KvYOcKpIFscn"
      }
    },
    {
      "cell_type": "code",
      "source": [
        "neigh_man = KNeighborsClassifier(n_neighbors=8, p=2)\n",
        "neigh_man.fit(X_train, y_train)"
      ],
      "metadata": {
        "colab": {
          "base_uri": "https://localhost:8080/"
        },
        "id": "LOUZ_j0bG1fF",
        "outputId": "7cdf0a53-117d-41f3-9078-b1f0011dca37"
      },
      "execution_count": 384,
      "outputs": [
        {
          "output_type": "execute_result",
          "data": {
            "text/plain": [
              "KNeighborsClassifier(n_neighbors=8)"
            ]
          },
          "metadata": {},
          "execution_count": 384
        }
      ]
    },
    {
      "cell_type": "markdown",
      "source": [
        "Training Data Report"
      ],
      "metadata": {
        "id": "yLtlZWkiMAR1"
      }
    },
    {
      "cell_type": "code",
      "source": [
        "y_pred_train_neigh_man = neigh_man.predict(X_train)\n",
        "displayMetrics(\"(KNN Manhatten Training)\", y_train, y_pred_train_neigh_man)"
      ],
      "metadata": {
        "colab": {
          "base_uri": "https://localhost:8080/"
        },
        "outputId": "7c3f7ac6-378f-4991-ba81-bb275e78bdbb",
        "id": "Q6RR9ZOPMAR8"
      },
      "execution_count": 385,
      "outputs": [
        {
          "output_type": "stream",
          "name": "stdout",
          "text": [
            "Accuracy (KNN Manhatten Training) :  0.8268982080177351\n",
            "Precision Score (KNN Manhatten Training) :  [0.86252523 0.7628125  0.92725299]\n",
            "Recall (KNN Manhatten Training) :  [0.9651192  0.80935013 0.38176129]\n",
            "F1 Score (KNN Manhatten Training) :  [0.91094268 0.78539254 0.54084864]\n"
          ]
        }
      ]
    },
    {
      "cell_type": "code",
      "source": [
        "print(classification_report(y_train, y_pred_train_neigh_man, target_names=target_names))"
      ],
      "metadata": {
        "colab": {
          "base_uri": "https://localhost:8080/"
        },
        "id": "N-nDYSKuMPy-",
        "outputId": "3a171282-e40b-4039-baff-1f73a0c12e86"
      },
      "execution_count": 386,
      "outputs": [
        {
          "output_type": "stream",
          "name": "stdout",
          "text": [
            "              precision    recall  f1-score   support\n",
            "\n",
            "    Low Risk       0.86      0.97      0.91      7970\n",
            " Medium Risk       0.76      0.81      0.79      6032\n",
            "   High Risk       0.93      0.38      0.54      2237\n",
            "\n",
            "    accuracy                           0.83     16239\n",
            "   macro avg       0.85      0.72      0.75     16239\n",
            "weighted avg       0.83      0.83      0.81     16239\n",
            "\n"
          ]
        }
      ]
    },
    {
      "cell_type": "code",
      "source": [
        "plot_confusion_matrix(\"(KNN Manhatten Training)\", y_train, y_pred_train_neigh_man)"
      ],
      "metadata": {
        "colab": {
          "base_uri": "https://localhost:8080/",
          "height": 346
        },
        "outputId": "07d4c85f-3934-47b5-8545-ef2049ca110a",
        "id": "pg35xMGGMAR8"
      },
      "execution_count": 387,
      "outputs": [
        {
          "output_type": "display_data",
          "data": {
            "text/plain": [
              "<Figure size 360x360 with 1 Axes>"
            ],
            "image/png": "[encoded data removed]"
          },
          "metadata": {
            "needs_background": "light"
          }
        }
      ]
    },
    {
      "cell_type": "markdown",
      "source": [
        "Testing Data Report"
      ],
      "metadata": {
        "id": "5qo6t6FMMYzd"
      }
    },
    {
      "cell_type": "code",
      "source": [
        "y_pred_test_neigh_man = neigh_man.predict(X_test)\n",
        "displayMetrics(\"(KNN Manhatten Testing)\", y_test, y_pred_test_neigh_man)"
      ],
      "metadata": {
        "colab": {
          "base_uri": "https://localhost:8080/"
        },
        "id": "FyVmlsJmG4iX",
        "outputId": "33950568-9352-4916-c4ce-0848d435011e"
      },
      "execution_count": 388,
      "outputs": [
        {
          "output_type": "stream",
          "name": "stdout",
          "text": [
            "Accuracy (KNN Manhatten Testing) :  0.74064039408867\n",
            "Precision Score (KNN Manhatten Testing) :  [0.78388113 0.67924528 0.76530612]\n",
            "Recall (KNN Manhatten Testing) :  [0.92655668 0.703657   0.25210084]\n",
            "F1 Score (KNN Manhatten Testing) :  [0.84926829 0.69123568 0.37926675]\n"
          ]
        }
      ]
    },
    {
      "cell_type": "code",
      "source": [
        "print(classification_report(y_test, y_pred_test_neigh_man, target_names=target_names))"
      ],
      "metadata": {
        "colab": {
          "base_uri": "https://localhost:8080/"
        },
        "outputId": "58103a30-ad8b-4406-a28a-17e0683a3faa",
        "id": "bRLj48aPMYzd"
      },
      "execution_count": 389,
      "outputs": [
        {
          "output_type": "stream",
          "name": "stdout",
          "text": [
            "              precision    recall  f1-score   support\n",
            "\n",
            "    Low Risk       0.78      0.93      0.85      1879\n",
            " Medium Risk       0.68      0.70      0.69      1586\n",
            "   High Risk       0.77      0.25      0.38       595\n",
            "\n",
            "    accuracy                           0.74      4060\n",
            "   macro avg       0.74      0.63      0.64      4060\n",
            "weighted avg       0.74      0.74      0.72      4060\n",
            "\n"
          ]
        }
      ]
    },
    {
      "cell_type": "code",
      "source": [
        "plot_confusion_matrix(\"(KNN Manhatten Testing)\", y_test, y_pred_test_neigh_man)"
      ],
      "metadata": {
        "colab": {
          "base_uri": "https://localhost:8080/",
          "height": 346
        },
        "outputId": "4a0337be-d46e-4739-d758-7b274b3f7afc",
        "id": "sPe1yqQWMYzd"
      },
      "execution_count": 390,
      "outputs": [
        {
          "output_type": "display_data",
          "data": {
            "text/plain": [
              "<Figure size 360x360 with 1 Axes>"
            ],
            "image/png": "[encoded data removed]"
          },
          "metadata": {
            "needs_background": "light"
          }
        }
      ]
    },
    {
      "cell_type": "markdown",
      "source": [
        "## Probabilistic Model"
      ],
      "metadata": {
        "id": "nxFDvpBM-tGc"
      }
    },
    {
      "cell_type": "markdown",
      "source": [
        "### Gaussian Naïve Bayes"
      ],
      "metadata": {
        "id": "ROJzZTON_IyD"
      }
    },
    {
      "cell_type": "code",
      "source": [
        "from sklearn.naive_bayes import GaussianNB\n",
        "\n",
        "gauss_nb = GaussianNB()\n",
        "gauss_nb.fit(X_train, y_train)"
      ],
      "metadata": {
        "colab": {
          "base_uri": "https://localhost:8080/"
        },
        "id": "gW8RSyp0_ScE",
        "outputId": "7ac1308b-0956-4fc5-b97f-6fe69fc9b94d"
      },
      "execution_count": 391,
      "outputs": [
        {
          "output_type": "execute_result",
          "data": {
            "text/plain": [
              "GaussianNB()"
            ]
          },
          "metadata": {},
          "execution_count": 391
        }
      ]
    },
    {
      "cell_type": "markdown",
      "source": [
        "Training Data Report"
      ],
      "metadata": {
        "id": "QXApcXhIMoUB"
      }
    },
    {
      "cell_type": "code",
      "source": [
        "y_pred_train_gauss_nb = gauss_nb.predict(X_train)\n",
        "displayMetrics(\"(GaussianNB Training)\", y_train, y_pred_train_gauss_nb)"
      ],
      "metadata": {
        "colab": {
          "base_uri": "https://localhost:8080/"
        },
        "id": "NgOTp4bLHTHZ",
        "outputId": "c970043c-5993-4828-c642-093b67c547ca"
      },
      "execution_count": 392,
      "outputs": [
        {
          "output_type": "stream",
          "name": "stdout",
          "text": [
            "Accuracy (GaussianNB Training) :  0.9818954369111399\n",
            "Precision Score (GaussianNB Training) :  [0.99949648 0.9560108  0.99349349]\n",
            "Recall (GaussianNB Training) :  [0.99623588 0.99801061 0.88734913]\n",
            "F1 Score (GaussianNB Training) :  [0.99786352 0.97655933 0.93742621]\n"
          ]
        }
      ]
    },
    {
      "cell_type": "code",
      "source": [
        "print(classification_report(y_train, y_pred_train_gauss_nb, target_names=target_names))"
      ],
      "metadata": {
        "colab": {
          "base_uri": "https://localhost:8080/"
        },
        "outputId": "966caa83-5dd5-4655-f274-ed5ec80baa98",
        "id": "GVmpgV7IMoUM"
      },
      "execution_count": 393,
      "outputs": [
        {
          "output_type": "stream",
          "name": "stdout",
          "text": [
            "              precision    recall  f1-score   support\n",
            "\n",
            "    Low Risk       1.00      1.00      1.00      7970\n",
            " Medium Risk       0.96      1.00      0.98      6032\n",
            "   High Risk       0.99      0.89      0.94      2237\n",
            "\n",
            "    accuracy                           0.98     16239\n",
            "   macro avg       0.98      0.96      0.97     16239\n",
            "weighted avg       0.98      0.98      0.98     16239\n",
            "\n"
          ]
        }
      ]
    },
    {
      "cell_type": "code",
      "source": [
        "plot_confusion_matrix(\"(GaussianNB Training)\", y_train, y_pred_train_gauss_nb)"
      ],
      "metadata": {
        "colab": {
          "base_uri": "https://localhost:8080/",
          "height": 346
        },
        "outputId": "f0655c24-0e11-4690-f45d-3a24eed2aac4",
        "id": "6Nz38AfHMoUM"
      },
      "execution_count": 394,
      "outputs": [
        {
          "output_type": "display_data",
          "data": {
            "text/plain": [
              "<Figure size 360x360 with 1 Axes>"
            ],
            "image/png": "[encoded data removed]"
          },
          "metadata": {
            "needs_background": "light"
          }
        }
      ]
    },
    {
      "cell_type": "markdown",
      "source": [
        "Testing Data Report"
      ],
      "metadata": {
        "id": "v6C0KHRTM7AC"
      }
    },
    {
      "cell_type": "code",
      "source": [
        "y_pred_test_gauss_nb = gauss_nb.predict(X_test)\n",
        "displayMetrics(\"(GaussianNB Testing)\", y_test, y_pred_test_gauss_nb)"
      ],
      "metadata": {
        "colab": {
          "base_uri": "https://localhost:8080/"
        },
        "id": "RmB1UzdyHZu1",
        "outputId": "3f3cc4ee-1ff6-4d8f-966e-743c7b5af74e"
      },
      "execution_count": 395,
      "outputs": [
        {
          "output_type": "stream",
          "name": "stdout",
          "text": [
            "Accuracy (GaussianNB Testing) :  0.9795566502463054\n",
            "Precision Score (GaussianNB Testing) :  [0.99946581 0.95246691 0.99429658]\n",
            "Recall (GaussianNB Testing) :  [0.99574242 0.99810845 0.8789916 ]\n",
            "F1 Score (GaussianNB Testing) :  [0.99760064 0.97475369 0.93309545]\n"
          ]
        }
      ]
    },
    {
      "cell_type": "code",
      "source": [
        "print(classification_report(y_test, y_pred_test_gauss_nb, target_names=target_names))"
      ],
      "metadata": {
        "colab": {
          "base_uri": "https://localhost:8080/"
        },
        "outputId": "13d55f54-c840-4da9-85c2-24942476a547",
        "id": "flx1O9ClM7AD"
      },
      "execution_count": 396,
      "outputs": [
        {
          "output_type": "stream",
          "name": "stdout",
          "text": [
            "              precision    recall  f1-score   support\n",
            "\n",
            "    Low Risk       1.00      1.00      1.00      1879\n",
            " Medium Risk       0.95      1.00      0.97      1586\n",
            "   High Risk       0.99      0.88      0.93       595\n",
            "\n",
            "    accuracy                           0.98      4060\n",
            "   macro avg       0.98      0.96      0.97      4060\n",
            "weighted avg       0.98      0.98      0.98      4060\n",
            "\n"
          ]
        }
      ]
    },
    {
      "cell_type": "code",
      "source": [
        "plot_confusion_matrix(\"(GaussianNB Testing)\", y_test, y_pred_test_gauss_nb)"
      ],
      "metadata": {
        "colab": {
          "base_uri": "https://localhost:8080/",
          "height": 346
        },
        "outputId": "91046fa1-e52f-4dc8-b79d-4570c7dab076",
        "id": "8kb0eReZM7AD"
      },
      "execution_count": 397,
      "outputs": [
        {
          "output_type": "display_data",
          "data": {
            "text/plain": [
              "<Figure size 360x360 with 1 Axes>"
            ],
            "image/png": "[encoded data removed]"
          },
          "metadata": {
            "needs_background": "light"
          }
        }
      ]
    },
    {
      "cell_type": "markdown",
      "source": [
        "## Logical Model"
      ],
      "metadata": {
        "id": "KwRuCVKU-u8K"
      }
    },
    {
      "cell_type": "markdown",
      "source": [
        "### Decision Tree"
      ],
      "metadata": {
        "id": "To_e-1LP_OX3"
      }
    },
    {
      "cell_type": "code",
      "source": [
        "from sklearn.tree import DecisionTreeClassifier\n",
        "\n",
        "dstree = DecisionTreeClassifier()\n",
        "dstree.fit(X_train, y_train)"
      ],
      "metadata": {
        "colab": {
          "base_uri": "https://localhost:8080/"
        },
        "id": "cBO-O19E_TAf",
        "outputId": "2ca6fbe6-9e9e-4a1e-98a7-905688721c92"
      },
      "execution_count": 398,
      "outputs": [
        {
          "output_type": "execute_result",
          "data": {
            "text/plain": [
              "DecisionTreeClassifier()"
            ]
          },
          "metadata": {},
          "execution_count": 398
        }
      ]
    },
    {
      "cell_type": "code",
      "source": [
        "import graphviz\n",
        "from sklearn import tree\n",
        "\n",
        "dot_data = tree.export_graphviz(dstree, out_file=None, feature_names=X_train.columns, class_names=target_names, filled=True, rounded=True, special_characters=True)\n",
        "graph = graphviz.Source(dot_data)\n",
        "graph"
      ],
      "metadata": {
        "colab": {
          "base_uri": "https://localhost:8080/",
          "height": 757
        },
        "id": "llLw18C9OVkB",
        "outputId": "ea573c0e-6aaa-4143-f22b-89178f87b844"
      },
      "execution_count": 399,
      "outputs": [
        {
          "output_type": "execute_result",
          "data": {
            "text/plain": [
              "<graphviz.files.Source at 0x7fa8b16aed10>"
            ],
            "image/svg+xml": "<?xml version=\"1.0\" encoding=\"UTF-8\" standalone=\"no\"?>\n<!DOCTYPE svg PUBLIC \"-//W3C//DTD SVG 1.1//EN\"\n \"http://www.w3.org/Graphics/SVG/1.1/DTD/svg11.dtd\">\n<!-- Generated by graphviz version 2.40.1 (20161225.0304)\n -->\n<!-- Title: Tree Pages: 1 -->\n<svg width=\"808pt\" height=\"552pt\"\n viewBox=\"0.00 0.00 808.00 552.00\" xmlns=\"http://www.w3.org/2000/svg\" xmlns:xlink=\"http://www.w3.org/1999/xlink\">\n<g id=\"graph0\" class=\"graph\" transform=\"scale(1 1) rotate(0) translate(4 548)\">\n<title>Tree</title>\n<polygon fill=\"#ffffff\" stroke=\"transparent\" points=\"-4,4 -4,-548 804,-548 804,4 -4,4\"/>\n<!-- 0 -->\n<g id=\"node1\" class=\"node\">\n<title>0</title>\n<path fill=\"#fae7d9\" stroke=\"#000000\" d=\"M401.5,-544C401.5,-544 236.5,-544 236.5,-544 230.5,-544 224.5,-538 224.5,-532 224.5,-532 224.5,-473 224.5,-473 224.5,-467 230.5,-461 236.5,-461 236.5,-461 401.5,-461 401.5,-461 407.5,-461 413.5,-467 413.5,-473 413.5,-473 413.5,-532 413.5,-532 413.5,-538 407.5,-544 401.5,-544\"/>\n<text text-anchor=\"start\" x=\"244\" y=\"-528.8\" font-family=\"Helvetica,sans-Serif\" font-size=\"14.00\" fill=\"#000000\">violation_id ≤ 103134.5</text>\n<text text-anchor=\"start\" x=\"281\" y=\"-513.8\" font-family=\"Helvetica,sans-Serif\" font-size=\"14.00\" fill=\"#000000\">gini = 0.602</text>\n<text text-anchor=\"start\" x=\"263\" y=\"-498.8\" font-family=\"Helvetica,sans-Serif\" font-size=\"14.00\" fill=\"#000000\">samples = 16239</text>\n<text text-anchor=\"start\" x=\"232.5\" y=\"-483.8\" font-family=\"Helvetica,sans-Serif\" font-size=\"14.00\" fill=\"#000000\">value = [7970, 6032, 2237]</text>\n<text text-anchor=\"start\" x=\"264.5\" y=\"-468.8\" font-family=\"Helvetica,sans-Serif\" font-size=\"14.00\" fill=\"#000000\">class = Low Risk</text>\n</g>\n<!-- 1 -->\n<g id=\"node2\" class=\"node\">\n<title>1</title>\n<path fill=\"#82efb0\" stroke=\"#000000\" d=\"M298,-425C298,-425 156,-425 156,-425 150,-425 144,-419 144,-413 144,-413 144,-354 144,-354 144,-348 150,-342 156,-342 156,-342 298,-342 298,-342 304,-342 310,-348 310,-354 310,-354 310,-413 310,-413 310,-419 304,-425 298,-425\"/>\n<text text-anchor=\"start\" x=\"152\" y=\"-409.8\" font-family=\"Helvetica,sans-Serif\" font-size=\"14.00\" fill=\"#000000\">violation_id ≤ 103115.5</text>\n<text text-anchor=\"start\" x=\"189\" y=\"-394.8\" font-family=\"Helvetica,sans-Serif\" font-size=\"14.00\" fill=\"#000000\">gini = 0.395</text>\n<text text-anchor=\"start\" x=\"175\" y=\"-379.8\" font-family=\"Helvetica,sans-Serif\" font-size=\"14.00\" fill=\"#000000\">samples = 8265</text>\n<text text-anchor=\"start\" x=\"153\" y=\"-364.8\" font-family=\"Helvetica,sans-Serif\" font-size=\"14.00\" fill=\"#000000\">value = [0, 6030, 2235]</text>\n<text text-anchor=\"start\" x=\"160\" y=\"-349.8\" font-family=\"Helvetica,sans-Serif\" font-size=\"14.00\" fill=\"#000000\">class = Medium Risk</text>\n</g>\n<!-- 0&#45;&gt;1 -->\n<g id=\"edge1\" class=\"edge\">\n<title>0&#45;&gt;1</title>\n<path fill=\"none\" stroke=\"#000000\" d=\"M286.8229,-460.8796C279.9296,-451.9633 272.5798,-442.4565 265.4761,-433.268\"/>\n<polygon fill=\"#000000\" stroke=\"#000000\" points=\"268.1999,-431.0687 259.3145,-425.2981 262.6619,-435.3502 268.1999,-431.0687\"/>\n<text text-anchor=\"middle\" x=\"256.1413\" y=\"-446.3959\" font-family=\"Helvetica,sans-Serif\" font-size=\"14.00\" fill=\"#000000\">True</text>\n</g>\n<!-- 4 -->\n<g id=\"node5\" class=\"node\">\n<title>4</title>\n<path fill=\"#e58139\" stroke=\"#000000\" d=\"M482,-425C482,-425 340,-425 340,-425 334,-425 328,-419 328,-413 328,-413 328,-354 328,-354 328,-348 334,-342 340,-342 340,-342 482,-342 482,-342 488,-342 494,-348 494,-354 494,-354 494,-413 494,-413 494,-419 488,-425 482,-425\"/>\n<text text-anchor=\"start\" x=\"336\" y=\"-409.8\" font-family=\"Helvetica,sans-Serif\" font-size=\"14.00\" fill=\"#000000\">violation_id ≤ 103167.5</text>\n<text text-anchor=\"start\" x=\"373\" y=\"-394.8\" font-family=\"Helvetica,sans-Serif\" font-size=\"14.00\" fill=\"#000000\">gini = 0.001</text>\n<text text-anchor=\"start\" x=\"359\" y=\"-379.8\" font-family=\"Helvetica,sans-Serif\" font-size=\"14.00\" fill=\"#000000\">samples = 7974</text>\n<text text-anchor=\"start\" x=\"349\" y=\"-364.8\" font-family=\"Helvetica,sans-Serif\" font-size=\"14.00\" fill=\"#000000\">value = [7970, 2, 2]</text>\n<text text-anchor=\"start\" x=\"356.5\" y=\"-349.8\" font-family=\"Helvetica,sans-Serif\" font-size=\"14.00\" fill=\"#000000\">class = Low Risk</text>\n</g>\n<!-- 0&#45;&gt;4 -->\n<g id=\"edge4\" class=\"edge\">\n<title>0&#45;&gt;4</title>\n<path fill=\"none\" stroke=\"#000000\" d=\"M351.1771,-460.8796C358.0704,-451.9633 365.4202,-442.4565 372.5239,-433.268\"/>\n<polygon fill=\"#000000\" stroke=\"#000000\" points=\"375.3381,-435.3502 378.6855,-425.2981 369.8001,-431.0687 375.3381,-435.3502\"/>\n<text text-anchor=\"middle\" x=\"381.8587\" y=\"-446.3959\" font-family=\"Helvetica,sans-Serif\" font-size=\"14.00\" fill=\"#000000\">False</text>\n</g>\n<!-- 2 -->\n<g id=\"node3\" class=\"node\">\n<title>2</title>\n<path fill=\"#8139e5\" stroke=\"#000000\" d=\"M128,-298.5C128,-298.5 12,-298.5 12,-298.5 6,-298.5 0,-292.5 0,-286.5 0,-286.5 0,-242.5 0,-242.5 0,-236.5 6,-230.5 12,-230.5 12,-230.5 128,-230.5 128,-230.5 134,-230.5 140,-236.5 140,-242.5 140,-242.5 140,-286.5 140,-286.5 140,-292.5 134,-298.5 128,-298.5\"/>\n<text text-anchor=\"start\" x=\"40.5\" y=\"-283.3\" font-family=\"Helvetica,sans-Serif\" font-size=\"14.00\" fill=\"#000000\">gini = 0.0</text>\n<text text-anchor=\"start\" x=\"18\" y=\"-268.3\" font-family=\"Helvetica,sans-Serif\" font-size=\"14.00\" fill=\"#000000\">samples = 2235</text>\n<text text-anchor=\"start\" x=\"8\" y=\"-253.3\" font-family=\"Helvetica,sans-Serif\" font-size=\"14.00\" fill=\"#000000\">value = [0, 0, 2235]</text>\n<text text-anchor=\"start\" x=\"14\" y=\"-238.3\" font-family=\"Helvetica,sans-Serif\" font-size=\"14.00\" fill=\"#000000\">class = High Risk</text>\n</g>\n<!-- 1&#45;&gt;2 -->\n<g id=\"edge2\" class=\"edge\">\n<title>1&#45;&gt;2</title>\n<path fill=\"none\" stroke=\"#000000\" d=\"M172.089,-341.8796C156.2006,-329.8368 138.8909,-316.7167 123.1143,-304.7586\"/>\n<polygon fill=\"#000000\" stroke=\"#000000\" points=\"125.1031,-301.8743 115.0195,-298.623 120.8747,-307.4529 125.1031,-301.8743\"/>\n</g>\n<!-- 3 -->\n<g id=\"node4\" class=\"node\">\n<title>3</title>\n<path fill=\"#39e581\" stroke=\"#000000\" d=\"M296,-298.5C296,-298.5 170,-298.5 170,-298.5 164,-298.5 158,-292.5 158,-286.5 158,-286.5 158,-242.5 158,-242.5 158,-236.5 164,-230.5 170,-230.5 170,-230.5 296,-230.5 296,-230.5 302,-230.5 308,-236.5 308,-242.5 308,-242.5 308,-286.5 308,-286.5 308,-292.5 302,-298.5 296,-298.5\"/>\n<text text-anchor=\"start\" x=\"203.5\" y=\"-283.3\" font-family=\"Helvetica,sans-Serif\" font-size=\"14.00\" fill=\"#000000\">gini = 0.0</text>\n<text text-anchor=\"start\" x=\"181\" y=\"-268.3\" font-family=\"Helvetica,sans-Serif\" font-size=\"14.00\" fill=\"#000000\">samples = 6030</text>\n<text text-anchor=\"start\" x=\"171\" y=\"-253.3\" font-family=\"Helvetica,sans-Serif\" font-size=\"14.00\" fill=\"#000000\">value = [0, 6030, 0]</text>\n<text text-anchor=\"start\" x=\"166\" y=\"-238.3\" font-family=\"Helvetica,sans-Serif\" font-size=\"14.00\" fill=\"#000000\">class = Medium Risk</text>\n</g>\n<!-- 1&#45;&gt;3 -->\n<g id=\"edge3\" class=\"edge\">\n<title>1&#45;&gt;3</title>\n<path fill=\"none\" stroke=\"#000000\" d=\"M229.0985,-341.8796C229.6363,-331.2134 230.2167,-319.7021 230.7613,-308.9015\"/>\n<polygon fill=\"#000000\" stroke=\"#000000\" points=\"234.2617,-308.9785 231.2698,-298.8149 227.2706,-308.626 234.2617,-308.9785\"/>\n</g>\n<!-- 5 -->\n<g id=\"node6\" class=\"node\">\n<title>5</title>\n<path fill=\"#e58139\" stroke=\"#000000\" d=\"M464,-298.5C464,-298.5 348,-298.5 348,-298.5 342,-298.5 336,-292.5 336,-286.5 336,-286.5 336,-242.5 336,-242.5 336,-236.5 342,-230.5 348,-230.5 348,-230.5 464,-230.5 464,-230.5 470,-230.5 476,-236.5 476,-242.5 476,-242.5 476,-286.5 476,-286.5 476,-292.5 470,-298.5 464,-298.5\"/>\n<text text-anchor=\"start\" x=\"376.5\" y=\"-283.3\" font-family=\"Helvetica,sans-Serif\" font-size=\"14.00\" fill=\"#000000\">gini = 0.0</text>\n<text text-anchor=\"start\" x=\"354\" y=\"-268.3\" font-family=\"Helvetica,sans-Serif\" font-size=\"14.00\" fill=\"#000000\">samples = 7958</text>\n<text text-anchor=\"start\" x=\"344\" y=\"-253.3\" font-family=\"Helvetica,sans-Serif\" font-size=\"14.00\" fill=\"#000000\">value = [7958, 0, 0]</text>\n<text text-anchor=\"start\" x=\"351.5\" y=\"-238.3\" font-family=\"Helvetica,sans-Serif\" font-size=\"14.00\" fill=\"#000000\">class = Low Risk</text>\n</g>\n<!-- 4&#45;&gt;5 -->\n<g id=\"edge5\" class=\"edge\">\n<title>4&#45;&gt;5</title>\n<path fill=\"none\" stroke=\"#000000\" d=\"M409.2512,-341.8796C408.8031,-331.2134 408.3194,-319.7021 407.8656,-308.9015\"/>\n<polygon fill=\"#000000\" stroke=\"#000000\" points=\"411.3586,-308.6592 407.4418,-298.8149 404.3648,-308.9531 411.3586,-308.6592\"/>\n</g>\n<!-- 6 -->\n<g id=\"node7\" class=\"node\">\n<title>6</title>\n<path fill=\"#eca572\" stroke=\"#000000\" d=\"M623.5,-306C623.5,-306 506.5,-306 506.5,-306 500.5,-306 494.5,-300 494.5,-294 494.5,-294 494.5,-235 494.5,-235 494.5,-229 500.5,-223 506.5,-223 506.5,-223 623.5,-223 623.5,-223 629.5,-223 635.5,-229 635.5,-235 635.5,-235 635.5,-294 635.5,-294 635.5,-300 629.5,-306 623.5,-306\"/>\n<text text-anchor=\"start\" x=\"502.5\" y=\"-290.8\" font-family=\"Helvetica,sans-Serif\" font-size=\"14.00\" fill=\"#000000\">violation_type ≤ 3.0</text>\n<text text-anchor=\"start\" x=\"527\" y=\"-275.8\" font-family=\"Helvetica,sans-Serif\" font-size=\"14.00\" fill=\"#000000\">gini = 0.406</text>\n<text text-anchor=\"start\" x=\"521\" y=\"-260.8\" font-family=\"Helvetica,sans-Serif\" font-size=\"14.00\" fill=\"#000000\">samples = 16</text>\n<text text-anchor=\"start\" x=\"511.5\" y=\"-245.8\" font-family=\"Helvetica,sans-Serif\" font-size=\"14.00\" fill=\"#000000\">value = [12, 2, 2]</text>\n<text text-anchor=\"start\" x=\"510.5\" y=\"-230.8\" font-family=\"Helvetica,sans-Serif\" font-size=\"14.00\" fill=\"#000000\">class = Low Risk</text>\n</g>\n<!-- 4&#45;&gt;6 -->\n<g id=\"edge6\" class=\"edge\">\n<title>4&#45;&gt;6</title>\n<path fill=\"none\" stroke=\"#000000\" d=\"M464.8617,-341.8796C477.1709,-332.368 490.3497,-322.1843 502.9704,-312.432\"/>\n<polygon fill=\"#000000\" stroke=\"#000000\" points=\"505.3959,-314.9809 511.1687,-306.0969 501.1157,-309.4419 505.3959,-314.9809\"/>\n</g>\n<!-- 7 -->\n<g id=\"node8\" class=\"node\">\n<title>7</title>\n<path fill=\"#e58139\" stroke=\"#000000\" d=\"M533.5,-179.5C533.5,-179.5 432.5,-179.5 432.5,-179.5 426.5,-179.5 420.5,-173.5 420.5,-167.5 420.5,-167.5 420.5,-123.5 420.5,-123.5 420.5,-117.5 426.5,-111.5 432.5,-111.5 432.5,-111.5 533.5,-111.5 533.5,-111.5 539.5,-111.5 545.5,-117.5 545.5,-123.5 545.5,-123.5 545.5,-167.5 545.5,-167.5 545.5,-173.5 539.5,-179.5 533.5,-179.5\"/>\n<text text-anchor=\"start\" x=\"453.5\" y=\"-164.3\" font-family=\"Helvetica,sans-Serif\" font-size=\"14.00\" fill=\"#000000\">gini = 0.0</text>\n<text text-anchor=\"start\" x=\"439\" y=\"-149.3\" font-family=\"Helvetica,sans-Serif\" font-size=\"14.00\" fill=\"#000000\">samples = 12</text>\n<text text-anchor=\"start\" x=\"429.5\" y=\"-134.3\" font-family=\"Helvetica,sans-Serif\" font-size=\"14.00\" fill=\"#000000\">value = [12, 0, 0]</text>\n<text text-anchor=\"start\" x=\"428.5\" y=\"-119.3\" font-family=\"Helvetica,sans-Serif\" font-size=\"14.00\" fill=\"#000000\">class = Low Risk</text>\n</g>\n<!-- 6&#45;&gt;7 -->\n<g id=\"edge7\" class=\"edge\">\n<title>6&#45;&gt;7</title>\n<path fill=\"none\" stroke=\"#000000\" d=\"M536.3204,-222.8796C528.5917,-211.6636 520.2191,-199.5131 512.4492,-188.2372\"/>\n<polygon fill=\"#000000\" stroke=\"#000000\" points=\"515.2018,-186.0634 506.6456,-179.8149 509.4377,-190.0353 515.2018,-186.0634\"/>\n</g>\n<!-- 8 -->\n<g id=\"node9\" class=\"node\">\n<title>8</title>\n<path fill=\"#ffffff\" stroke=\"#000000\" d=\"M718,-187C718,-187 576,-187 576,-187 570,-187 564,-181 564,-175 564,-175 564,-116 564,-116 564,-110 570,-104 576,-104 576,-104 718,-104 718,-104 724,-104 730,-110 730,-116 730,-116 730,-175 730,-175 730,-181 724,-187 718,-187\"/>\n<text text-anchor=\"start\" x=\"572\" y=\"-171.8\" font-family=\"Helvetica,sans-Serif\" font-size=\"14.00\" fill=\"#000000\">violation_id ≤ 103171.5</text>\n<text text-anchor=\"start\" x=\"617.5\" y=\"-156.8\" font-family=\"Helvetica,sans-Serif\" font-size=\"14.00\" fill=\"#000000\">gini = 0.5</text>\n<text text-anchor=\"start\" x=\"607.5\" y=\"-141.8\" font-family=\"Helvetica,sans-Serif\" font-size=\"14.00\" fill=\"#000000\">samples = 4</text>\n<text text-anchor=\"start\" x=\"597.5\" y=\"-126.8\" font-family=\"Helvetica,sans-Serif\" font-size=\"14.00\" fill=\"#000000\">value = [0, 2, 2]</text>\n<text text-anchor=\"start\" x=\"580\" y=\"-111.8\" font-family=\"Helvetica,sans-Serif\" font-size=\"14.00\" fill=\"#000000\">class = Medium Risk</text>\n</g>\n<!-- 6&#45;&gt;8 -->\n<g id=\"edge8\" class=\"edge\">\n<title>6&#45;&gt;8</title>\n<path fill=\"none\" stroke=\"#000000\" d=\"M593.6796,-222.8796C599.7615,-214.0534 606.2422,-204.6485 612.5141,-195.5466\"/>\n<polygon fill=\"#000000\" stroke=\"#000000\" points=\"615.4059,-197.5184 618.198,-187.2981 609.6418,-193.5465 615.4059,-197.5184\"/>\n</g>\n<!-- 9 -->\n<g id=\"node10\" class=\"node\">\n<title>9</title>\n<path fill=\"#8139e5\" stroke=\"#000000\" d=\"M620,-68C620,-68 516,-68 516,-68 510,-68 504,-62 504,-56 504,-56 504,-12 504,-12 504,-6 510,0 516,0 516,0 620,0 620,0 626,0 632,-6 632,-12 632,-12 632,-56 632,-56 632,-62 626,-68 620,-68\"/>\n<text text-anchor=\"start\" x=\"538.5\" y=\"-52.8\" font-family=\"Helvetica,sans-Serif\" font-size=\"14.00\" fill=\"#000000\">gini = 0.0</text>\n<text text-anchor=\"start\" x=\"528.5\" y=\"-37.8\" font-family=\"Helvetica,sans-Serif\" font-size=\"14.00\" fill=\"#000000\">samples = 2</text>\n<text text-anchor=\"start\" x=\"518.5\" y=\"-22.8\" font-family=\"Helvetica,sans-Serif\" font-size=\"14.00\" fill=\"#000000\">value = [0, 0, 2]</text>\n<text text-anchor=\"start\" x=\"512\" y=\"-7.8\" font-family=\"Helvetica,sans-Serif\" font-size=\"14.00\" fill=\"#000000\">class = High Risk</text>\n</g>\n<!-- 8&#45;&gt;9 -->\n<g id=\"edge9\" class=\"edge\">\n<title>8&#45;&gt;9</title>\n<path fill=\"none\" stroke=\"#000000\" d=\"M617.5833,-103.9815C611.2669,-95.0666 604.5818,-85.6313 598.2349,-76.6734\"/>\n<polygon fill=\"#000000\" stroke=\"#000000\" points=\"600.9136,-74.3998 592.2765,-68.2637 595.2019,-78.4466 600.9136,-74.3998\"/>\n</g>\n<!-- 10 -->\n<g id=\"node11\" class=\"node\">\n<title>10</title>\n<path fill=\"#39e581\" stroke=\"#000000\" d=\"M788,-68C788,-68 662,-68 662,-68 656,-68 650,-62 650,-56 650,-56 650,-12 650,-12 650,-6 656,0 662,0 662,0 788,0 788,0 794,0 800,-6 800,-12 800,-12 800,-56 800,-56 800,-62 794,-68 788,-68\"/>\n<text text-anchor=\"start\" x=\"695.5\" y=\"-52.8\" font-family=\"Helvetica,sans-Serif\" font-size=\"14.00\" fill=\"#000000\">gini = 0.0</text>\n<text text-anchor=\"start\" x=\"685.5\" y=\"-37.8\" font-family=\"Helvetica,sans-Serif\" font-size=\"14.00\" fill=\"#000000\">samples = 2</text>\n<text text-anchor=\"start\" x=\"675.5\" y=\"-22.8\" font-family=\"Helvetica,sans-Serif\" font-size=\"14.00\" fill=\"#000000\">value = [0, 2, 0]</text>\n<text text-anchor=\"start\" x=\"658\" y=\"-7.8\" font-family=\"Helvetica,sans-Serif\" font-size=\"14.00\" fill=\"#000000\">class = Medium Risk</text>\n</g>\n<!-- 8&#45;&gt;10 -->\n<g id=\"edge10\" class=\"edge\">\n<title>8&#45;&gt;10</title>\n<path fill=\"none\" stroke=\"#000000\" d=\"M676.0443,-103.9815C682.2808,-95.0666 688.8813,-85.6313 695.1478,-76.6734\"/>\n<polygon fill=\"#000000\" stroke=\"#000000\" points=\"698.1665,-78.464 701.0308,-68.2637 692.4307,-74.4515 698.1665,-78.464\"/>\n</g>\n</g>\n</svg>\n"
          },
          "metadata": {},
          "execution_count": 399
        }
      ]
    },
    {
      "cell_type": "markdown",
      "source": [
        "Training Data Report"
      ],
      "metadata": {
        "id": "8xpffFgTNWl2"
      }
    },
    {
      "cell_type": "code",
      "source": [
        "y_pred_train_dstree = dstree.predict(X_train)\n",
        "displayMetrics(\"(DecisionTree Training)\", y_train, y_pred_train_dstree)"
      ],
      "metadata": {
        "colab": {
          "base_uri": "https://localhost:8080/"
        },
        "id": "G1Xmc7YfIIXm",
        "outputId": "0f86f77e-be65-4203-d015-00704770bcde"
      },
      "execution_count": 400,
      "outputs": [
        {
          "output_type": "stream",
          "name": "stdout",
          "text": [
            "Accuracy (DecisionTree Training) :  1.0\n",
            "Precision Score (DecisionTree Training) :  [1. 1. 1.]\n",
            "Recall (DecisionTree Training) :  [1. 1. 1.]\n",
            "F1 Score (DecisionTree Training) :  [1. 1. 1.]\n"
          ]
        }
      ]
    },
    {
      "cell_type": "code",
      "source": [
        "print(classification_report(y_train, y_pred_train_dstree, target_names=target_names))"
      ],
      "metadata": {
        "colab": {
          "base_uri": "https://localhost:8080/"
        },
        "outputId": "7392ca9f-4922-48d6-c629-bb2312d355d3",
        "id": "WZgZntd7NWl3"
      },
      "execution_count": 401,
      "outputs": [
        {
          "output_type": "stream",
          "name": "stdout",
          "text": [
            "              precision    recall  f1-score   support\n",
            "\n",
            "    Low Risk       1.00      1.00      1.00      7970\n",
            " Medium Risk       1.00      1.00      1.00      6032\n",
            "   High Risk       1.00      1.00      1.00      2237\n",
            "\n",
            "    accuracy                           1.00     16239\n",
            "   macro avg       1.00      1.00      1.00     16239\n",
            "weighted avg       1.00      1.00      1.00     16239\n",
            "\n"
          ]
        }
      ]
    },
    {
      "cell_type": "code",
      "source": [
        "plot_confusion_matrix(\"(DecisionTree Training)\", y_train, y_pred_train_dstree)"
      ],
      "metadata": {
        "colab": {
          "base_uri": "https://localhost:8080/",
          "height": 346
        },
        "outputId": "319a9366-ba80-43c5-aaa4-4a261135670c",
        "id": "D8weMHXKNWl3"
      },
      "execution_count": 402,
      "outputs": [
        {
          "output_type": "display_data",
          "data": {
            "text/plain": [
              "<Figure size 360x360 with 1 Axes>"
            ],
            "image/png": "[encoded data removed]"
          },
          "metadata": {
            "needs_background": "light"
          }
        }
      ]
    },
    {
      "cell_type": "markdown",
      "source": [
        "Testing Data Report"
      ],
      "metadata": {
        "id": "g4fmbq6MNgwC"
      }
    },
    {
      "cell_type": "code",
      "source": [
        "y_pred_test_dstree = dstree.predict(X_test)\n",
        "displayMetrics(\"(DecisionTree Testing)\", y_test, y_pred_test_dstree)"
      ],
      "metadata": {
        "colab": {
          "base_uri": "https://localhost:8080/"
        },
        "id": "4CEUODfaIOAx",
        "outputId": "0993642a-642a-47c7-99af-ab10bdaedc03"
      },
      "execution_count": 403,
      "outputs": [
        {
          "output_type": "stream",
          "name": "stdout",
          "text": [
            "Accuracy (DecisionTree Testing) :  1.0\n",
            "Precision Score (DecisionTree Testing) :  [1. 1. 1.]\n",
            "Recall (DecisionTree Testing) :  [1. 1. 1.]\n",
            "F1 Score (DecisionTree Testing) :  [1. 1. 1.]\n"
          ]
        }
      ]
    },
    {
      "cell_type": "code",
      "source": [
        "print(classification_report(y_test, y_pred_test_dstree, target_names=target_names))"
      ],
      "metadata": {
        "colab": {
          "base_uri": "https://localhost:8080/"
        },
        "outputId": "a0c36e30-4188-49e6-efd7-a6495dbca54b",
        "id": "38Y7WBaXNgwD"
      },
      "execution_count": 404,
      "outputs": [
        {
          "output_type": "stream",
          "name": "stdout",
          "text": [
            "              precision    recall  f1-score   support\n",
            "\n",
            "    Low Risk       1.00      1.00      1.00      1879\n",
            " Medium Risk       1.00      1.00      1.00      1586\n",
            "   High Risk       1.00      1.00      1.00       595\n",
            "\n",
            "    accuracy                           1.00      4060\n",
            "   macro avg       1.00      1.00      1.00      4060\n",
            "weighted avg       1.00      1.00      1.00      4060\n",
            "\n"
          ]
        }
      ]
    },
    {
      "cell_type": "code",
      "source": [
        "plot_confusion_matrix(\"(DecisionTree Testing)\", y_test, y_pred_test_dstree)"
      ],
      "metadata": {
        "colab": {
          "base_uri": "https://localhost:8080/",
          "height": 346
        },
        "outputId": "33bf944c-ca37-4a25-805b-0484f36dda54",
        "id": "0eUZTZHMNgwD"
      },
      "execution_count": 405,
      "outputs": [
        {
          "output_type": "display_data",
          "data": {
            "text/plain": [
              "<Figure size 360x360 with 1 Axes>"
            ],
            "image/png": "[encoded data removed]"
          },
          "metadata": {
            "needs_background": "light"
          }
        }
      ]
    }
  ]
}